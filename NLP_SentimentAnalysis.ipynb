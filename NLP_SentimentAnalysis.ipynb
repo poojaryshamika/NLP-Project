{
  "nbformat": 4,
  "nbformat_minor": 0,
  "metadata": {
    "colab": {
      "provenance": []
    },
    "kernelspec": {
      "name": "python3",
      "display_name": "Python 3"
    },
    "language_info": {
      "name": "python"
    }
  },
  "cells": [
    {
      "cell_type": "markdown",
      "source": [
        "**Sentiment Analysis on sentiment labelled sentences using dataset(yelp_labelled.txt)**"
      ],
      "metadata": {
        "id": "fsYsuXY2rQ3c"
      }
    },
    {
      "cell_type": "markdown",
      "source": [
        "**Importing libraries**"
      ],
      "metadata": {
        "id": "uZxq0n6xrkAC"
      }
    },
    {
      "cell_type": "code",
      "execution_count": null,
      "metadata": {
        "id": "J3-gNIbOPNAd"
      },
      "outputs": [],
      "source": [
        "import pandas as pd\n",
        "import numpy as np\n",
        "import matplotlib.pyplot as plt"
      ]
    },
    {
      "cell_type": "markdown",
      "source": [
        "**Importing dataset**"
      ],
      "metadata": {
        "id": "igJOlCWJrnrt"
      }
    },
    {
      "cell_type": "code",
      "source": [
        "data = pd.read_table('/content/yelp_labelled.txt')"
      ],
      "metadata": {
        "id": "8RdTaz4hPUsV"
      },
      "execution_count": null,
      "outputs": []
    },
    {
      "cell_type": "markdown",
      "source": [
        "**Reading the dataset**"
      ],
      "metadata": {
        "id": "8DbHpVPzruxI"
      }
    },
    {
      "cell_type": "code",
      "source": [
        "data.head()"
      ],
      "metadata": {
        "colab": {
          "base_uri": "https://localhost:8080/",
          "height": 206
        },
        "id": "Jy4I7cC8QTvw",
        "outputId": "bbf201f2-67cc-4be0-9308-5d67508e29a4"
      },
      "execution_count": null,
      "outputs": [
        {
          "output_type": "execute_result",
          "data": {
            "text/plain": [
              "                            Wow... Loved this place.  1\n",
              "0                                 Crust is not good.  0\n",
              "1          Not tasty and the texture was just nasty.  0\n",
              "2  Stopped by during the late May bank holiday of...  1\n",
              "3  The selection on the menu was great and so wer...  1\n",
              "4     Now I am getting angry and I want my damn pho.  0"
            ],
            "text/html": [
              "\n",
              "  <div id=\"df-52849d3d-bbe3-4f06-903c-3a1d495d10c2\">\n",
              "    <div class=\"colab-df-container\">\n",
              "      <div>\n",
              "<style scoped>\n",
              "    .dataframe tbody tr th:only-of-type {\n",
              "        vertical-align: middle;\n",
              "    }\n",
              "\n",
              "    .dataframe tbody tr th {\n",
              "        vertical-align: top;\n",
              "    }\n",
              "\n",
              "    .dataframe thead th {\n",
              "        text-align: right;\n",
              "    }\n",
              "</style>\n",
              "<table border=\"1\" class=\"dataframe\">\n",
              "  <thead>\n",
              "    <tr style=\"text-align: right;\">\n",
              "      <th></th>\n",
              "      <th>Wow... Loved this place.</th>\n",
              "      <th>1</th>\n",
              "    </tr>\n",
              "  </thead>\n",
              "  <tbody>\n",
              "    <tr>\n",
              "      <th>0</th>\n",
              "      <td>Crust is not good.</td>\n",
              "      <td>0</td>\n",
              "    </tr>\n",
              "    <tr>\n",
              "      <th>1</th>\n",
              "      <td>Not tasty and the texture was just nasty.</td>\n",
              "      <td>0</td>\n",
              "    </tr>\n",
              "    <tr>\n",
              "      <th>2</th>\n",
              "      <td>Stopped by during the late May bank holiday of...</td>\n",
              "      <td>1</td>\n",
              "    </tr>\n",
              "    <tr>\n",
              "      <th>3</th>\n",
              "      <td>The selection on the menu was great and so wer...</td>\n",
              "      <td>1</td>\n",
              "    </tr>\n",
              "    <tr>\n",
              "      <th>4</th>\n",
              "      <td>Now I am getting angry and I want my damn pho.</td>\n",
              "      <td>0</td>\n",
              "    </tr>\n",
              "  </tbody>\n",
              "</table>\n",
              "</div>\n",
              "      <button class=\"colab-df-convert\" onclick=\"convertToInteractive('df-52849d3d-bbe3-4f06-903c-3a1d495d10c2')\"\n",
              "              title=\"Convert this dataframe to an interactive table.\"\n",
              "              style=\"display:none;\">\n",
              "        \n",
              "  <svg xmlns=\"http://www.w3.org/2000/svg\" height=\"24px\"viewBox=\"0 0 24 24\"\n",
              "       width=\"24px\">\n",
              "    <path d=\"M0 0h24v24H0V0z\" fill=\"none\"/>\n",
              "    <path d=\"M18.56 5.44l.94 2.06.94-2.06 2.06-.94-2.06-.94-.94-2.06-.94 2.06-2.06.94zm-11 1L8.5 8.5l.94-2.06 2.06-.94-2.06-.94L8.5 2.5l-.94 2.06-2.06.94zm10 10l.94 2.06.94-2.06 2.06-.94-2.06-.94-.94-2.06-.94 2.06-2.06.94z\"/><path d=\"M17.41 7.96l-1.37-1.37c-.4-.4-.92-.59-1.43-.59-.52 0-1.04.2-1.43.59L10.3 9.45l-7.72 7.72c-.78.78-.78 2.05 0 2.83L4 21.41c.39.39.9.59 1.41.59.51 0 1.02-.2 1.41-.59l7.78-7.78 2.81-2.81c.8-.78.8-2.07 0-2.86zM5.41 20L4 18.59l7.72-7.72 1.47 1.35L5.41 20z\"/>\n",
              "  </svg>\n",
              "      </button>\n",
              "      \n",
              "  <style>\n",
              "    .colab-df-container {\n",
              "      display:flex;\n",
              "      flex-wrap:wrap;\n",
              "      gap: 12px;\n",
              "    }\n",
              "\n",
              "    .colab-df-convert {\n",
              "      background-color: #E8F0FE;\n",
              "      border: none;\n",
              "      border-radius: 50%;\n",
              "      cursor: pointer;\n",
              "      display: none;\n",
              "      fill: #1967D2;\n",
              "      height: 32px;\n",
              "      padding: 0 0 0 0;\n",
              "      width: 32px;\n",
              "    }\n",
              "\n",
              "    .colab-df-convert:hover {\n",
              "      background-color: #E2EBFA;\n",
              "      box-shadow: 0px 1px 2px rgba(60, 64, 67, 0.3), 0px 1px 3px 1px rgba(60, 64, 67, 0.15);\n",
              "      fill: #174EA6;\n",
              "    }\n",
              "\n",
              "    [theme=dark] .colab-df-convert {\n",
              "      background-color: #3B4455;\n",
              "      fill: #D2E3FC;\n",
              "    }\n",
              "\n",
              "    [theme=dark] .colab-df-convert:hover {\n",
              "      background-color: #434B5C;\n",
              "      box-shadow: 0px 1px 3px 1px rgba(0, 0, 0, 0.15);\n",
              "      filter: drop-shadow(0px 1px 2px rgba(0, 0, 0, 0.3));\n",
              "      fill: #FFFFFF;\n",
              "    }\n",
              "  </style>\n",
              "\n",
              "      <script>\n",
              "        const buttonEl =\n",
              "          document.querySelector('#df-52849d3d-bbe3-4f06-903c-3a1d495d10c2 button.colab-df-convert');\n",
              "        buttonEl.style.display =\n",
              "          google.colab.kernel.accessAllowed ? 'block' : 'none';\n",
              "\n",
              "        async function convertToInteractive(key) {\n",
              "          const element = document.querySelector('#df-52849d3d-bbe3-4f06-903c-3a1d495d10c2');\n",
              "          const dataTable =\n",
              "            await google.colab.kernel.invokeFunction('convertToInteractive',\n",
              "                                                     [key], {});\n",
              "          if (!dataTable) return;\n",
              "\n",
              "          const docLinkHtml = 'Like what you see? Visit the ' +\n",
              "            '<a target=\"_blank\" href=https://colab.research.google.com/notebooks/data_table.ipynb>data table notebook</a>'\n",
              "            + ' to learn more about interactive tables.';\n",
              "          element.innerHTML = '';\n",
              "          dataTable['output_type'] = 'display_data';\n",
              "          await google.colab.output.renderOutput(dataTable, element);\n",
              "          const docLink = document.createElement('div');\n",
              "          docLink.innerHTML = docLinkHtml;\n",
              "          element.appendChild(docLink);\n",
              "        }\n",
              "      </script>\n",
              "    </div>\n",
              "  </div>\n",
              "  "
            ]
          },
          "metadata": {},
          "execution_count": 113
        }
      ]
    },
    {
      "cell_type": "markdown",
      "source": [
        "Pre-processing of Text"
      ],
      "metadata": {
        "id": "lC2BJlCaUuts"
      }
    },
    {
      "cell_type": "code",
      "source": [
        "data.columns = ['Label','Sentiment']"
      ],
      "metadata": {
        "id": "8ShKHvkcUxpf"
      },
      "execution_count": null,
      "outputs": []
    },
    {
      "cell_type": "code",
      "source": [
        "data.head()"
      ],
      "metadata": {
        "colab": {
          "base_uri": "https://localhost:8080/",
          "height": 206
        },
        "id": "b-LIy8c8VGly",
        "outputId": "d6f019e8-2033-42e3-cbe2-3ad8ebff8e7e"
      },
      "execution_count": null,
      "outputs": [
        {
          "output_type": "execute_result",
          "data": {
            "text/plain": [
              "                                               Label  Sentiment\n",
              "0                                 Crust is not good.          0\n",
              "1          Not tasty and the texture was just nasty.          0\n",
              "2  Stopped by during the late May bank holiday of...          1\n",
              "3  The selection on the menu was great and so wer...          1\n",
              "4     Now I am getting angry and I want my damn pho.          0"
            ],
            "text/html": [
              "\n",
              "  <div id=\"df-71b68082-d209-4efd-ab62-c755db19b48c\">\n",
              "    <div class=\"colab-df-container\">\n",
              "      <div>\n",
              "<style scoped>\n",
              "    .dataframe tbody tr th:only-of-type {\n",
              "        vertical-align: middle;\n",
              "    }\n",
              "\n",
              "    .dataframe tbody tr th {\n",
              "        vertical-align: top;\n",
              "    }\n",
              "\n",
              "    .dataframe thead th {\n",
              "        text-align: right;\n",
              "    }\n",
              "</style>\n",
              "<table border=\"1\" class=\"dataframe\">\n",
              "  <thead>\n",
              "    <tr style=\"text-align: right;\">\n",
              "      <th></th>\n",
              "      <th>Label</th>\n",
              "      <th>Sentiment</th>\n",
              "    </tr>\n",
              "  </thead>\n",
              "  <tbody>\n",
              "    <tr>\n",
              "      <th>0</th>\n",
              "      <td>Crust is not good.</td>\n",
              "      <td>0</td>\n",
              "    </tr>\n",
              "    <tr>\n",
              "      <th>1</th>\n",
              "      <td>Not tasty and the texture was just nasty.</td>\n",
              "      <td>0</td>\n",
              "    </tr>\n",
              "    <tr>\n",
              "      <th>2</th>\n",
              "      <td>Stopped by during the late May bank holiday of...</td>\n",
              "      <td>1</td>\n",
              "    </tr>\n",
              "    <tr>\n",
              "      <th>3</th>\n",
              "      <td>The selection on the menu was great and so wer...</td>\n",
              "      <td>1</td>\n",
              "    </tr>\n",
              "    <tr>\n",
              "      <th>4</th>\n",
              "      <td>Now I am getting angry and I want my damn pho.</td>\n",
              "      <td>0</td>\n",
              "    </tr>\n",
              "  </tbody>\n",
              "</table>\n",
              "</div>\n",
              "      <button class=\"colab-df-convert\" onclick=\"convertToInteractive('df-71b68082-d209-4efd-ab62-c755db19b48c')\"\n",
              "              title=\"Convert this dataframe to an interactive table.\"\n",
              "              style=\"display:none;\">\n",
              "        \n",
              "  <svg xmlns=\"http://www.w3.org/2000/svg\" height=\"24px\"viewBox=\"0 0 24 24\"\n",
              "       width=\"24px\">\n",
              "    <path d=\"M0 0h24v24H0V0z\" fill=\"none\"/>\n",
              "    <path d=\"M18.56 5.44l.94 2.06.94-2.06 2.06-.94-2.06-.94-.94-2.06-.94 2.06-2.06.94zm-11 1L8.5 8.5l.94-2.06 2.06-.94-2.06-.94L8.5 2.5l-.94 2.06-2.06.94zm10 10l.94 2.06.94-2.06 2.06-.94-2.06-.94-.94-2.06-.94 2.06-2.06.94z\"/><path d=\"M17.41 7.96l-1.37-1.37c-.4-.4-.92-.59-1.43-.59-.52 0-1.04.2-1.43.59L10.3 9.45l-7.72 7.72c-.78.78-.78 2.05 0 2.83L4 21.41c.39.39.9.59 1.41.59.51 0 1.02-.2 1.41-.59l7.78-7.78 2.81-2.81c.8-.78.8-2.07 0-2.86zM5.41 20L4 18.59l7.72-7.72 1.47 1.35L5.41 20z\"/>\n",
              "  </svg>\n",
              "      </button>\n",
              "      \n",
              "  <style>\n",
              "    .colab-df-container {\n",
              "      display:flex;\n",
              "      flex-wrap:wrap;\n",
              "      gap: 12px;\n",
              "    }\n",
              "\n",
              "    .colab-df-convert {\n",
              "      background-color: #E8F0FE;\n",
              "      border: none;\n",
              "      border-radius: 50%;\n",
              "      cursor: pointer;\n",
              "      display: none;\n",
              "      fill: #1967D2;\n",
              "      height: 32px;\n",
              "      padding: 0 0 0 0;\n",
              "      width: 32px;\n",
              "    }\n",
              "\n",
              "    .colab-df-convert:hover {\n",
              "      background-color: #E2EBFA;\n",
              "      box-shadow: 0px 1px 2px rgba(60, 64, 67, 0.3), 0px 1px 3px 1px rgba(60, 64, 67, 0.15);\n",
              "      fill: #174EA6;\n",
              "    }\n",
              "\n",
              "    [theme=dark] .colab-df-convert {\n",
              "      background-color: #3B4455;\n",
              "      fill: #D2E3FC;\n",
              "    }\n",
              "\n",
              "    [theme=dark] .colab-df-convert:hover {\n",
              "      background-color: #434B5C;\n",
              "      box-shadow: 0px 1px 3px 1px rgba(0, 0, 0, 0.15);\n",
              "      filter: drop-shadow(0px 1px 2px rgba(0, 0, 0, 0.3));\n",
              "      fill: #FFFFFF;\n",
              "    }\n",
              "  </style>\n",
              "\n",
              "      <script>\n",
              "        const buttonEl =\n",
              "          document.querySelector('#df-71b68082-d209-4efd-ab62-c755db19b48c button.colab-df-convert');\n",
              "        buttonEl.style.display =\n",
              "          google.colab.kernel.accessAllowed ? 'block' : 'none';\n",
              "\n",
              "        async function convertToInteractive(key) {\n",
              "          const element = document.querySelector('#df-71b68082-d209-4efd-ab62-c755db19b48c');\n",
              "          const dataTable =\n",
              "            await google.colab.kernel.invokeFunction('convertToInteractive',\n",
              "                                                     [key], {});\n",
              "          if (!dataTable) return;\n",
              "\n",
              "          const docLinkHtml = 'Like what you see? Visit the ' +\n",
              "            '<a target=\"_blank\" href=https://colab.research.google.com/notebooks/data_table.ipynb>data table notebook</a>'\n",
              "            + ' to learn more about interactive tables.';\n",
              "          element.innerHTML = '';\n",
              "          dataTable['output_type'] = 'display_data';\n",
              "          await google.colab.output.renderOutput(dataTable, element);\n",
              "          const docLink = document.createElement('div');\n",
              "          docLink.innerHTML = docLinkHtml;\n",
              "          element.appendChild(docLink);\n",
              "        }\n",
              "      </script>\n",
              "    </div>\n",
              "  </div>\n",
              "  "
            ]
          },
          "metadata": {},
          "execution_count": 115
        }
      ]
    },
    {
      "cell_type": "code",
      "source": [
        "len(data)"
      ],
      "metadata": {
        "colab": {
          "base_uri": "https://localhost:8080/"
        },
        "id": "7rMnWGT2L3je",
        "outputId": "c689c7c2-6c90-4291-920b-1241c9ed5397"
      },
      "execution_count": null,
      "outputs": [
        {
          "output_type": "execute_result",
          "data": {
            "text/plain": [
              "999"
            ]
          },
          "metadata": {},
          "execution_count": 116
        }
      ]
    },
    {
      "cell_type": "code",
      "source": [
        "data.info()"
      ],
      "metadata": {
        "colab": {
          "base_uri": "https://localhost:8080/"
        },
        "id": "SjK_vf-iL-pG",
        "outputId": "c72c5cdd-c3a1-467f-a121-3a0f99ac60e3"
      },
      "execution_count": null,
      "outputs": [
        {
          "output_type": "stream",
          "name": "stdout",
          "text": [
            "<class 'pandas.core.frame.DataFrame'>\n",
            "RangeIndex: 999 entries, 0 to 998\n",
            "Data columns (total 2 columns):\n",
            " #   Column     Non-Null Count  Dtype \n",
            "---  ------     --------------  ----- \n",
            " 0   Label      999 non-null    object\n",
            " 1   Sentiment  999 non-null    int64 \n",
            "dtypes: int64(1), object(1)\n",
            "memory usage: 15.7+ KB\n"
          ]
        }
      ]
    },
    {
      "cell_type": "code",
      "source": [
        "data.isna().sum()"
      ],
      "metadata": {
        "colab": {
          "base_uri": "https://localhost:8080/"
        },
        "id": "bdozpQjoMRKJ",
        "outputId": "37eeb1d8-dc0a-4ab6-b53c-aa0eba024a89"
      },
      "execution_count": null,
      "outputs": [
        {
          "output_type": "execute_result",
          "data": {
            "text/plain": [
              "Label        0\n",
              "Sentiment    0\n",
              "dtype: int64"
            ]
          },
          "metadata": {},
          "execution_count": 118
        }
      ]
    },
    {
      "cell_type": "code",
      "source": [
        "data['Label'].value_counts()"
      ],
      "metadata": {
        "colab": {
          "base_uri": "https://localhost:8080/"
        },
        "id": "SYb6wp2CMZlK",
        "outputId": "0897cd5c-dcf4-4de8-ab2e-25dd606918d0"
      },
      "execution_count": null,
      "outputs": [
        {
          "output_type": "execute_result",
          "data": {
            "text/plain": [
              "The food was terrible.                                                                                                                    2\n",
              "I would not recommend this place.                                                                                                         2\n",
              "I love this place.                                                                                                                        2\n",
              "I won't be back.                                                                                                                          2\n",
              "Crust is not good.                                                                                                                        1\n",
              "                                                                                                                                         ..\n",
              "The burger... I got the \"Gold Standard\" a $17 burger and was kind of disappointed.                                                        1\n",
              "OMG, the food was delicioso!                                                                                                              1\n",
              "There is nothing authentic about this place.                                                                                              1\n",
              "the spaghetti is nothing special whatsoever.                                                                                              1\n",
              "Then, as if I hadn't wasted enough of my life there, they poured salt in the wound by drawing out the time it took to bring the check.    1\n",
              "Name: Label, Length: 995, dtype: int64"
            ]
          },
          "metadata": {},
          "execution_count": 119
        }
      ]
    },
    {
      "cell_type": "code",
      "source": [
        "y=data['Sentiment'].values\n",
        "y.shape"
      ],
      "metadata": {
        "colab": {
          "base_uri": "https://localhost:8080/"
        },
        "id": "9q9b252PMwZI",
        "outputId": "a88f7575-c0fb-4f0e-d379-5e6d3797a36a"
      },
      "execution_count": null,
      "outputs": [
        {
          "output_type": "execute_result",
          "data": {
            "text/plain": [
              "(999,)"
            ]
          },
          "metadata": {},
          "execution_count": 120
        }
      ]
    },
    {
      "cell_type": "code",
      "source": [
        "x=data['Label'].values\n",
        "x.shape"
      ],
      "metadata": {
        "colab": {
          "base_uri": "https://localhost:8080/"
        },
        "id": "PtsrkPtwM4Ib",
        "outputId": "706af347-9c69-484a-c7b3-b37aaa47c3bc"
      },
      "execution_count": null,
      "outputs": [
        {
          "output_type": "execute_result",
          "data": {
            "text/plain": [
              "(999,)"
            ]
          },
          "metadata": {},
          "execution_count": 121
        }
      ]
    },
    {
      "cell_type": "code",
      "source": [
        "data = data[['Label', 'Sentiment']]\n",
        "data.columns = ['Text','Sentiment']"
      ],
      "metadata": {
        "id": "OzGYxGNb5yGQ"
      },
      "execution_count": null,
      "outputs": []
    },
    {
      "cell_type": "markdown",
      "source": [
        "**Removing Punctuations**"
      ],
      "metadata": {
        "id": "mLEhBYTP50oR"
      }
    },
    {
      "cell_type": "code",
      "source": [
        "import string\n",
        "punct = string.punctuation\n",
        "print(punct)"
      ],
      "metadata": {
        "colab": {
          "base_uri": "https://localhost:8080/"
        },
        "id": "DF5vnIrC532D",
        "outputId": "326186a1-53ea-4eee-893b-60a94d0ea582"
      },
      "execution_count": null,
      "outputs": [
        {
          "output_type": "stream",
          "name": "stdout",
          "text": [
            "!\"#$%&'()*+,-./:;<=>?@[\\]^_`{|}~\n"
          ]
        }
      ]
    },
    {
      "cell_type": "code",
      "source": [
        "def remove_puntuations(text):\n",
        "    return text.translate(str.maketrans('','',punct))\n",
        "\n",
        "data['text_punct'] = data['Text'].apply(remove_puntuations)"
      ],
      "metadata": {
        "id": "G1xZ2b5K56CR"
      },
      "execution_count": null,
      "outputs": []
    },
    {
      "cell_type": "code",
      "source": [
        "data.head()"
      ],
      "metadata": {
        "colab": {
          "base_uri": "https://localhost:8080/",
          "height": 206
        },
        "id": "D_azKDZ65_-L",
        "outputId": "d305f866-64e6-4b28-877b-b76281a6d5a0"
      },
      "execution_count": null,
      "outputs": [
        {
          "output_type": "execute_result",
          "data": {
            "text/plain": [
              "                                                Text  Sentiment  \\\n",
              "0                                 Crust is not good.          0   \n",
              "1          Not tasty and the texture was just nasty.          0   \n",
              "2  Stopped by during the late May bank holiday of...          1   \n",
              "3  The selection on the menu was great and so wer...          1   \n",
              "4     Now I am getting angry and I want my damn pho.          0   \n",
              "\n",
              "                                          text_punct  \n",
              "0                                  Crust is not good  \n",
              "1           Not tasty and the texture was just nasty  \n",
              "2  Stopped by during the late May bank holiday of...  \n",
              "3  The selection on the menu was great and so wer...  \n",
              "4      Now I am getting angry and I want my damn pho  "
            ],
            "text/html": [
              "\n",
              "  <div id=\"df-e6b3ce96-f237-4bf9-bb12-1d9e0aba69b2\">\n",
              "    <div class=\"colab-df-container\">\n",
              "      <div>\n",
              "<style scoped>\n",
              "    .dataframe tbody tr th:only-of-type {\n",
              "        vertical-align: middle;\n",
              "    }\n",
              "\n",
              "    .dataframe tbody tr th {\n",
              "        vertical-align: top;\n",
              "    }\n",
              "\n",
              "    .dataframe thead th {\n",
              "        text-align: right;\n",
              "    }\n",
              "</style>\n",
              "<table border=\"1\" class=\"dataframe\">\n",
              "  <thead>\n",
              "    <tr style=\"text-align: right;\">\n",
              "      <th></th>\n",
              "      <th>Text</th>\n",
              "      <th>Sentiment</th>\n",
              "      <th>text_punct</th>\n",
              "    </tr>\n",
              "  </thead>\n",
              "  <tbody>\n",
              "    <tr>\n",
              "      <th>0</th>\n",
              "      <td>Crust is not good.</td>\n",
              "      <td>0</td>\n",
              "      <td>Crust is not good</td>\n",
              "    </tr>\n",
              "    <tr>\n",
              "      <th>1</th>\n",
              "      <td>Not tasty and the texture was just nasty.</td>\n",
              "      <td>0</td>\n",
              "      <td>Not tasty and the texture was just nasty</td>\n",
              "    </tr>\n",
              "    <tr>\n",
              "      <th>2</th>\n",
              "      <td>Stopped by during the late May bank holiday of...</td>\n",
              "      <td>1</td>\n",
              "      <td>Stopped by during the late May bank holiday of...</td>\n",
              "    </tr>\n",
              "    <tr>\n",
              "      <th>3</th>\n",
              "      <td>The selection on the menu was great and so wer...</td>\n",
              "      <td>1</td>\n",
              "      <td>The selection on the menu was great and so wer...</td>\n",
              "    </tr>\n",
              "    <tr>\n",
              "      <th>4</th>\n",
              "      <td>Now I am getting angry and I want my damn pho.</td>\n",
              "      <td>0</td>\n",
              "      <td>Now I am getting angry and I want my damn pho</td>\n",
              "    </tr>\n",
              "  </tbody>\n",
              "</table>\n",
              "</div>\n",
              "      <button class=\"colab-df-convert\" onclick=\"convertToInteractive('df-e6b3ce96-f237-4bf9-bb12-1d9e0aba69b2')\"\n",
              "              title=\"Convert this dataframe to an interactive table.\"\n",
              "              style=\"display:none;\">\n",
              "        \n",
              "  <svg xmlns=\"http://www.w3.org/2000/svg\" height=\"24px\"viewBox=\"0 0 24 24\"\n",
              "       width=\"24px\">\n",
              "    <path d=\"M0 0h24v24H0V0z\" fill=\"none\"/>\n",
              "    <path d=\"M18.56 5.44l.94 2.06.94-2.06 2.06-.94-2.06-.94-.94-2.06-.94 2.06-2.06.94zm-11 1L8.5 8.5l.94-2.06 2.06-.94-2.06-.94L8.5 2.5l-.94 2.06-2.06.94zm10 10l.94 2.06.94-2.06 2.06-.94-2.06-.94-.94-2.06-.94 2.06-2.06.94z\"/><path d=\"M17.41 7.96l-1.37-1.37c-.4-.4-.92-.59-1.43-.59-.52 0-1.04.2-1.43.59L10.3 9.45l-7.72 7.72c-.78.78-.78 2.05 0 2.83L4 21.41c.39.39.9.59 1.41.59.51 0 1.02-.2 1.41-.59l7.78-7.78 2.81-2.81c.8-.78.8-2.07 0-2.86zM5.41 20L4 18.59l7.72-7.72 1.47 1.35L5.41 20z\"/>\n",
              "  </svg>\n",
              "      </button>\n",
              "      \n",
              "  <style>\n",
              "    .colab-df-container {\n",
              "      display:flex;\n",
              "      flex-wrap:wrap;\n",
              "      gap: 12px;\n",
              "    }\n",
              "\n",
              "    .colab-df-convert {\n",
              "      background-color: #E8F0FE;\n",
              "      border: none;\n",
              "      border-radius: 50%;\n",
              "      cursor: pointer;\n",
              "      display: none;\n",
              "      fill: #1967D2;\n",
              "      height: 32px;\n",
              "      padding: 0 0 0 0;\n",
              "      width: 32px;\n",
              "    }\n",
              "\n",
              "    .colab-df-convert:hover {\n",
              "      background-color: #E2EBFA;\n",
              "      box-shadow: 0px 1px 2px rgba(60, 64, 67, 0.3), 0px 1px 3px 1px rgba(60, 64, 67, 0.15);\n",
              "      fill: #174EA6;\n",
              "    }\n",
              "\n",
              "    [theme=dark] .colab-df-convert {\n",
              "      background-color: #3B4455;\n",
              "      fill: #D2E3FC;\n",
              "    }\n",
              "\n",
              "    [theme=dark] .colab-df-convert:hover {\n",
              "      background-color: #434B5C;\n",
              "      box-shadow: 0px 1px 3px 1px rgba(0, 0, 0, 0.15);\n",
              "      filter: drop-shadow(0px 1px 2px rgba(0, 0, 0, 0.3));\n",
              "      fill: #FFFFFF;\n",
              "    }\n",
              "  </style>\n",
              "\n",
              "      <script>\n",
              "        const buttonEl =\n",
              "          document.querySelector('#df-e6b3ce96-f237-4bf9-bb12-1d9e0aba69b2 button.colab-df-convert');\n",
              "        buttonEl.style.display =\n",
              "          google.colab.kernel.accessAllowed ? 'block' : 'none';\n",
              "\n",
              "        async function convertToInteractive(key) {\n",
              "          const element = document.querySelector('#df-e6b3ce96-f237-4bf9-bb12-1d9e0aba69b2');\n",
              "          const dataTable =\n",
              "            await google.colab.kernel.invokeFunction('convertToInteractive',\n",
              "                                                     [key], {});\n",
              "          if (!dataTable) return;\n",
              "\n",
              "          const docLinkHtml = 'Like what you see? Visit the ' +\n",
              "            '<a target=\"_blank\" href=https://colab.research.google.com/notebooks/data_table.ipynb>data table notebook</a>'\n",
              "            + ' to learn more about interactive tables.';\n",
              "          element.innerHTML = '';\n",
              "          dataTable['output_type'] = 'display_data';\n",
              "          await google.colab.output.renderOutput(dataTable, element);\n",
              "          const docLink = document.createElement('div');\n",
              "          docLink.innerHTML = docLinkHtml;\n",
              "          element.appendChild(docLink);\n",
              "        }\n",
              "      </script>\n",
              "    </div>\n",
              "  </div>\n",
              "  "
            ]
          },
          "metadata": {},
          "execution_count": 125
        }
      ]
    },
    {
      "cell_type": "markdown",
      "source": [
        "**Removing Stopwords**"
      ],
      "metadata": {
        "id": "Gkyc3maw6QSz"
      }
    },
    {
      "cell_type": "code",
      "source": [
        "import nltk\n",
        "nltk.download('stopwords')"
      ],
      "metadata": {
        "colab": {
          "base_uri": "https://localhost:8080/"
        },
        "id": "OHr9Qu-albTD",
        "outputId": "88ebaddc-b234-448e-d940-954586a56625"
      },
      "execution_count": null,
      "outputs": [
        {
          "output_type": "stream",
          "name": "stderr",
          "text": [
            "[nltk_data] Downloading package stopwords to /root/nltk_data...\n",
            "[nltk_data]   Package stopwords is already up-to-date!\n"
          ]
        },
        {
          "output_type": "execute_result",
          "data": {
            "text/plain": [
              "True"
            ]
          },
          "metadata": {},
          "execution_count": 126
        }
      ]
    },
    {
      "cell_type": "code",
      "source": [
        "from nltk.corpus import stopwords\n",
        "\n",
        "stopwords_set = set(stopwords.words('english'))\n",
        "\n",
        "def remove_stopwords(text):\n",
        "    return ' '.join([word for word in str(text).split() if word not in stopwords_set])\n",
        "\n",
        "data['text_stopword'] = data['text_punct'].apply(remove_stopwords)"
      ],
      "metadata": {
        "id": "86dMBo6D6SpN"
      },
      "execution_count": null,
      "outputs": []
    },
    {
      "cell_type": "code",
      "source": [
        "data.head()"
      ],
      "metadata": {
        "colab": {
          "base_uri": "https://localhost:8080/",
          "height": 206
        },
        "id": "nbtxzJo_6h3H",
        "outputId": "b1145f0e-6d45-412f-c5e2-b19cb8a59a1d"
      },
      "execution_count": null,
      "outputs": [
        {
          "output_type": "execute_result",
          "data": {
            "text/plain": [
              "                                                Text  Sentiment  \\\n",
              "0                                 Crust is not good.          0   \n",
              "1          Not tasty and the texture was just nasty.          0   \n",
              "2  Stopped by during the late May bank holiday of...          1   \n",
              "3  The selection on the menu was great and so wer...          1   \n",
              "4     Now I am getting angry and I want my damn pho.          0   \n",
              "\n",
              "                                          text_punct  \\\n",
              "0                                  Crust is not good   \n",
              "1           Not tasty and the texture was just nasty   \n",
              "2  Stopped by during the late May bank holiday of...   \n",
              "3  The selection on the menu was great and so wer...   \n",
              "4      Now I am getting angry and I want my damn pho   \n",
              "\n",
              "                                       text_stopword  \n",
              "0                                         Crust good  \n",
              "1                            Not tasty texture nasty  \n",
              "2  Stopped late May bank holiday Rick Steve recom...  \n",
              "3                    The selection menu great prices  \n",
              "4                Now I getting angry I want damn pho  "
            ],
            "text/html": [
              "\n",
              "  <div id=\"df-a629271b-8689-48ee-bdcc-d452cd7a43ee\">\n",
              "    <div class=\"colab-df-container\">\n",
              "      <div>\n",
              "<style scoped>\n",
              "    .dataframe tbody tr th:only-of-type {\n",
              "        vertical-align: middle;\n",
              "    }\n",
              "\n",
              "    .dataframe tbody tr th {\n",
              "        vertical-align: top;\n",
              "    }\n",
              "\n",
              "    .dataframe thead th {\n",
              "        text-align: right;\n",
              "    }\n",
              "</style>\n",
              "<table border=\"1\" class=\"dataframe\">\n",
              "  <thead>\n",
              "    <tr style=\"text-align: right;\">\n",
              "      <th></th>\n",
              "      <th>Text</th>\n",
              "      <th>Sentiment</th>\n",
              "      <th>text_punct</th>\n",
              "      <th>text_stopword</th>\n",
              "    </tr>\n",
              "  </thead>\n",
              "  <tbody>\n",
              "    <tr>\n",
              "      <th>0</th>\n",
              "      <td>Crust is not good.</td>\n",
              "      <td>0</td>\n",
              "      <td>Crust is not good</td>\n",
              "      <td>Crust good</td>\n",
              "    </tr>\n",
              "    <tr>\n",
              "      <th>1</th>\n",
              "      <td>Not tasty and the texture was just nasty.</td>\n",
              "      <td>0</td>\n",
              "      <td>Not tasty and the texture was just nasty</td>\n",
              "      <td>Not tasty texture nasty</td>\n",
              "    </tr>\n",
              "    <tr>\n",
              "      <th>2</th>\n",
              "      <td>Stopped by during the late May bank holiday of...</td>\n",
              "      <td>1</td>\n",
              "      <td>Stopped by during the late May bank holiday of...</td>\n",
              "      <td>Stopped late May bank holiday Rick Steve recom...</td>\n",
              "    </tr>\n",
              "    <tr>\n",
              "      <th>3</th>\n",
              "      <td>The selection on the menu was great and so wer...</td>\n",
              "      <td>1</td>\n",
              "      <td>The selection on the menu was great and so wer...</td>\n",
              "      <td>The selection menu great prices</td>\n",
              "    </tr>\n",
              "    <tr>\n",
              "      <th>4</th>\n",
              "      <td>Now I am getting angry and I want my damn pho.</td>\n",
              "      <td>0</td>\n",
              "      <td>Now I am getting angry and I want my damn pho</td>\n",
              "      <td>Now I getting angry I want damn pho</td>\n",
              "    </tr>\n",
              "  </tbody>\n",
              "</table>\n",
              "</div>\n",
              "      <button class=\"colab-df-convert\" onclick=\"convertToInteractive('df-a629271b-8689-48ee-bdcc-d452cd7a43ee')\"\n",
              "              title=\"Convert this dataframe to an interactive table.\"\n",
              "              style=\"display:none;\">\n",
              "        \n",
              "  <svg xmlns=\"http://www.w3.org/2000/svg\" height=\"24px\"viewBox=\"0 0 24 24\"\n",
              "       width=\"24px\">\n",
              "    <path d=\"M0 0h24v24H0V0z\" fill=\"none\"/>\n",
              "    <path d=\"M18.56 5.44l.94 2.06.94-2.06 2.06-.94-2.06-.94-.94-2.06-.94 2.06-2.06.94zm-11 1L8.5 8.5l.94-2.06 2.06-.94-2.06-.94L8.5 2.5l-.94 2.06-2.06.94zm10 10l.94 2.06.94-2.06 2.06-.94-2.06-.94-.94-2.06-.94 2.06-2.06.94z\"/><path d=\"M17.41 7.96l-1.37-1.37c-.4-.4-.92-.59-1.43-.59-.52 0-1.04.2-1.43.59L10.3 9.45l-7.72 7.72c-.78.78-.78 2.05 0 2.83L4 21.41c.39.39.9.59 1.41.59.51 0 1.02-.2 1.41-.59l7.78-7.78 2.81-2.81c.8-.78.8-2.07 0-2.86zM5.41 20L4 18.59l7.72-7.72 1.47 1.35L5.41 20z\"/>\n",
              "  </svg>\n",
              "      </button>\n",
              "      \n",
              "  <style>\n",
              "    .colab-df-container {\n",
              "      display:flex;\n",
              "      flex-wrap:wrap;\n",
              "      gap: 12px;\n",
              "    }\n",
              "\n",
              "    .colab-df-convert {\n",
              "      background-color: #E8F0FE;\n",
              "      border: none;\n",
              "      border-radius: 50%;\n",
              "      cursor: pointer;\n",
              "      display: none;\n",
              "      fill: #1967D2;\n",
              "      height: 32px;\n",
              "      padding: 0 0 0 0;\n",
              "      width: 32px;\n",
              "    }\n",
              "\n",
              "    .colab-df-convert:hover {\n",
              "      background-color: #E2EBFA;\n",
              "      box-shadow: 0px 1px 2px rgba(60, 64, 67, 0.3), 0px 1px 3px 1px rgba(60, 64, 67, 0.15);\n",
              "      fill: #174EA6;\n",
              "    }\n",
              "\n",
              "    [theme=dark] .colab-df-convert {\n",
              "      background-color: #3B4455;\n",
              "      fill: #D2E3FC;\n",
              "    }\n",
              "\n",
              "    [theme=dark] .colab-df-convert:hover {\n",
              "      background-color: #434B5C;\n",
              "      box-shadow: 0px 1px 3px 1px rgba(0, 0, 0, 0.15);\n",
              "      filter: drop-shadow(0px 1px 2px rgba(0, 0, 0, 0.3));\n",
              "      fill: #FFFFFF;\n",
              "    }\n",
              "  </style>\n",
              "\n",
              "      <script>\n",
              "        const buttonEl =\n",
              "          document.querySelector('#df-a629271b-8689-48ee-bdcc-d452cd7a43ee button.colab-df-convert');\n",
              "        buttonEl.style.display =\n",
              "          google.colab.kernel.accessAllowed ? 'block' : 'none';\n",
              "\n",
              "        async function convertToInteractive(key) {\n",
              "          const element = document.querySelector('#df-a629271b-8689-48ee-bdcc-d452cd7a43ee');\n",
              "          const dataTable =\n",
              "            await google.colab.kernel.invokeFunction('convertToInteractive',\n",
              "                                                     [key], {});\n",
              "          if (!dataTable) return;\n",
              "\n",
              "          const docLinkHtml = 'Like what you see? Visit the ' +\n",
              "            '<a target=\"_blank\" href=https://colab.research.google.com/notebooks/data_table.ipynb>data table notebook</a>'\n",
              "            + ' to learn more about interactive tables.';\n",
              "          element.innerHTML = '';\n",
              "          dataTable['output_type'] = 'display_data';\n",
              "          await google.colab.output.renderOutput(dataTable, element);\n",
              "          const docLink = document.createElement('div');\n",
              "          docLink.innerHTML = docLinkHtml;\n",
              "          element.appendChild(docLink);\n",
              "        }\n",
              "      </script>\n",
              "    </div>\n",
              "  </div>\n",
              "  "
            ]
          },
          "metadata": {},
          "execution_count": 128
        }
      ]
    },
    {
      "cell_type": "markdown",
      "source": [
        "**Stemming**"
      ],
      "metadata": {
        "id": "fNMlIHEp6ocI"
      }
    },
    {
      "cell_type": "code",
      "source": [
        "from nltk.stem import PorterStemmer\n",
        "stemmer = PorterStemmer()\n",
        "def stem_words(text):\n",
        "    return \" \".join([stemmer.stem(word) for word in text.split()])\n",
        "data['text_stem'] = data['text_punct'].apply(lambda x: stem_words(x))"
      ],
      "metadata": {
        "id": "-wmoL6y26t2x"
      },
      "execution_count": null,
      "outputs": []
    },
    {
      "cell_type": "code",
      "source": [
        "data.head()"
      ],
      "metadata": {
        "colab": {
          "base_uri": "https://localhost:8080/",
          "height": 285
        },
        "id": "EMdAezGu77Uj",
        "outputId": "9ba976db-555d-4d8f-9308-45944c4e9e6c"
      },
      "execution_count": null,
      "outputs": [
        {
          "output_type": "execute_result",
          "data": {
            "text/plain": [
              "                                                Text  Sentiment  \\\n",
              "0                                 Crust is not good.          0   \n",
              "1          Not tasty and the texture was just nasty.          0   \n",
              "2  Stopped by during the late May bank holiday of...          1   \n",
              "3  The selection on the menu was great and so wer...          1   \n",
              "4     Now I am getting angry and I want my damn pho.          0   \n",
              "\n",
              "                                          text_punct  \\\n",
              "0                                  Crust is not good   \n",
              "1           Not tasty and the texture was just nasty   \n",
              "2  Stopped by during the late May bank holiday of...   \n",
              "3  The selection on the menu was great and so wer...   \n",
              "4      Now I am getting angry and I want my damn pho   \n",
              "\n",
              "                                       text_stopword  \\\n",
              "0                                         Crust good   \n",
              "1                            Not tasty texture nasty   \n",
              "2  Stopped late May bank holiday Rick Steve recom...   \n",
              "3                    The selection menu great prices   \n",
              "4                Now I getting angry I want damn pho   \n",
              "\n",
              "                                           text_stem  \n",
              "0                                  crust is not good  \n",
              "1             not tasti and the textur wa just nasti  \n",
              "2  stop by dure the late may bank holiday off ric...  \n",
              "3  the select on the menu wa great and so were th...  \n",
              "4          now i am get angri and i want my damn pho  "
            ],
            "text/html": [
              "\n",
              "  <div id=\"df-cdab2183-ec51-496d-99aa-b0dabaca6493\">\n",
              "    <div class=\"colab-df-container\">\n",
              "      <div>\n",
              "<style scoped>\n",
              "    .dataframe tbody tr th:only-of-type {\n",
              "        vertical-align: middle;\n",
              "    }\n",
              "\n",
              "    .dataframe tbody tr th {\n",
              "        vertical-align: top;\n",
              "    }\n",
              "\n",
              "    .dataframe thead th {\n",
              "        text-align: right;\n",
              "    }\n",
              "</style>\n",
              "<table border=\"1\" class=\"dataframe\">\n",
              "  <thead>\n",
              "    <tr style=\"text-align: right;\">\n",
              "      <th></th>\n",
              "      <th>Text</th>\n",
              "      <th>Sentiment</th>\n",
              "      <th>text_punct</th>\n",
              "      <th>text_stopword</th>\n",
              "      <th>text_stem</th>\n",
              "    </tr>\n",
              "  </thead>\n",
              "  <tbody>\n",
              "    <tr>\n",
              "      <th>0</th>\n",
              "      <td>Crust is not good.</td>\n",
              "      <td>0</td>\n",
              "      <td>Crust is not good</td>\n",
              "      <td>Crust good</td>\n",
              "      <td>crust is not good</td>\n",
              "    </tr>\n",
              "    <tr>\n",
              "      <th>1</th>\n",
              "      <td>Not tasty and the texture was just nasty.</td>\n",
              "      <td>0</td>\n",
              "      <td>Not tasty and the texture was just nasty</td>\n",
              "      <td>Not tasty texture nasty</td>\n",
              "      <td>not tasti and the textur wa just nasti</td>\n",
              "    </tr>\n",
              "    <tr>\n",
              "      <th>2</th>\n",
              "      <td>Stopped by during the late May bank holiday of...</td>\n",
              "      <td>1</td>\n",
              "      <td>Stopped by during the late May bank holiday of...</td>\n",
              "      <td>Stopped late May bank holiday Rick Steve recom...</td>\n",
              "      <td>stop by dure the late may bank holiday off ric...</td>\n",
              "    </tr>\n",
              "    <tr>\n",
              "      <th>3</th>\n",
              "      <td>The selection on the menu was great and so wer...</td>\n",
              "      <td>1</td>\n",
              "      <td>The selection on the menu was great and so wer...</td>\n",
              "      <td>The selection menu great prices</td>\n",
              "      <td>the select on the menu wa great and so were th...</td>\n",
              "    </tr>\n",
              "    <tr>\n",
              "      <th>4</th>\n",
              "      <td>Now I am getting angry and I want my damn pho.</td>\n",
              "      <td>0</td>\n",
              "      <td>Now I am getting angry and I want my damn pho</td>\n",
              "      <td>Now I getting angry I want damn pho</td>\n",
              "      <td>now i am get angri and i want my damn pho</td>\n",
              "    </tr>\n",
              "  </tbody>\n",
              "</table>\n",
              "</div>\n",
              "      <button class=\"colab-df-convert\" onclick=\"convertToInteractive('df-cdab2183-ec51-496d-99aa-b0dabaca6493')\"\n",
              "              title=\"Convert this dataframe to an interactive table.\"\n",
              "              style=\"display:none;\">\n",
              "        \n",
              "  <svg xmlns=\"http://www.w3.org/2000/svg\" height=\"24px\"viewBox=\"0 0 24 24\"\n",
              "       width=\"24px\">\n",
              "    <path d=\"M0 0h24v24H0V0z\" fill=\"none\"/>\n",
              "    <path d=\"M18.56 5.44l.94 2.06.94-2.06 2.06-.94-2.06-.94-.94-2.06-.94 2.06-2.06.94zm-11 1L8.5 8.5l.94-2.06 2.06-.94-2.06-.94L8.5 2.5l-.94 2.06-2.06.94zm10 10l.94 2.06.94-2.06 2.06-.94-2.06-.94-.94-2.06-.94 2.06-2.06.94z\"/><path d=\"M17.41 7.96l-1.37-1.37c-.4-.4-.92-.59-1.43-.59-.52 0-1.04.2-1.43.59L10.3 9.45l-7.72 7.72c-.78.78-.78 2.05 0 2.83L4 21.41c.39.39.9.59 1.41.59.51 0 1.02-.2 1.41-.59l7.78-7.78 2.81-2.81c.8-.78.8-2.07 0-2.86zM5.41 20L4 18.59l7.72-7.72 1.47 1.35L5.41 20z\"/>\n",
              "  </svg>\n",
              "      </button>\n",
              "      \n",
              "  <style>\n",
              "    .colab-df-container {\n",
              "      display:flex;\n",
              "      flex-wrap:wrap;\n",
              "      gap: 12px;\n",
              "    }\n",
              "\n",
              "    .colab-df-convert {\n",
              "      background-color: #E8F0FE;\n",
              "      border: none;\n",
              "      border-radius: 50%;\n",
              "      cursor: pointer;\n",
              "      display: none;\n",
              "      fill: #1967D2;\n",
              "      height: 32px;\n",
              "      padding: 0 0 0 0;\n",
              "      width: 32px;\n",
              "    }\n",
              "\n",
              "    .colab-df-convert:hover {\n",
              "      background-color: #E2EBFA;\n",
              "      box-shadow: 0px 1px 2px rgba(60, 64, 67, 0.3), 0px 1px 3px 1px rgba(60, 64, 67, 0.15);\n",
              "      fill: #174EA6;\n",
              "    }\n",
              "\n",
              "    [theme=dark] .colab-df-convert {\n",
              "      background-color: #3B4455;\n",
              "      fill: #D2E3FC;\n",
              "    }\n",
              "\n",
              "    [theme=dark] .colab-df-convert:hover {\n",
              "      background-color: #434B5C;\n",
              "      box-shadow: 0px 1px 3px 1px rgba(0, 0, 0, 0.15);\n",
              "      filter: drop-shadow(0px 1px 2px rgba(0, 0, 0, 0.3));\n",
              "      fill: #FFFFFF;\n",
              "    }\n",
              "  </style>\n",
              "\n",
              "      <script>\n",
              "        const buttonEl =\n",
              "          document.querySelector('#df-cdab2183-ec51-496d-99aa-b0dabaca6493 button.colab-df-convert');\n",
              "        buttonEl.style.display =\n",
              "          google.colab.kernel.accessAllowed ? 'block' : 'none';\n",
              "\n",
              "        async function convertToInteractive(key) {\n",
              "          const element = document.querySelector('#df-cdab2183-ec51-496d-99aa-b0dabaca6493');\n",
              "          const dataTable =\n",
              "            await google.colab.kernel.invokeFunction('convertToInteractive',\n",
              "                                                     [key], {});\n",
              "          if (!dataTable) return;\n",
              "\n",
              "          const docLinkHtml = 'Like what you see? Visit the ' +\n",
              "            '<a target=\"_blank\" href=https://colab.research.google.com/notebooks/data_table.ipynb>data table notebook</a>'\n",
              "            + ' to learn more about interactive tables.';\n",
              "          element.innerHTML = '';\n",
              "          dataTable['output_type'] = 'display_data';\n",
              "          await google.colab.output.renderOutput(dataTable, element);\n",
              "          const docLink = document.createElement('div');\n",
              "          docLink.innerHTML = docLinkHtml;\n",
              "          element.appendChild(docLink);\n",
              "        }\n",
              "      </script>\n",
              "    </div>\n",
              "  </div>\n",
              "  "
            ]
          },
          "metadata": {},
          "execution_count": 130
        }
      ]
    },
    {
      "cell_type": "markdown",
      "source": [
        "**Lemmatization**"
      ],
      "metadata": {
        "id": "8YNH08Zw8A9-"
      }
    },
    {
      "cell_type": "code",
      "source": [
        "from nltk.stem import WordNetLemmatizer\n",
        "nltk.download(\"wordnet\")\n",
        "nltk.download('punkt')"
      ],
      "metadata": {
        "id": "1lh-LeOrJ4po",
        "colab": {
          "base_uri": "https://localhost:8080/"
        },
        "outputId": "929c8c74-a70d-4743-aaeb-5846a8fb9bbc"
      },
      "execution_count": null,
      "outputs": [
        {
          "output_type": "stream",
          "name": "stderr",
          "text": [
            "[nltk_data] Downloading package wordnet to /root/nltk_data...\n",
            "[nltk_data]   Package wordnet is already up-to-date!\n",
            "[nltk_data] Downloading package punkt to /root/nltk_data...\n",
            "[nltk_data]   Package punkt is already up-to-date!\n"
          ]
        },
        {
          "output_type": "execute_result",
          "data": {
            "text/plain": [
              "True"
            ]
          },
          "metadata": {},
          "execution_count": 131
        }
      ]
    },
    {
      "cell_type": "code",
      "source": [
        "w_tokenizer = nltk.tokenize.WhitespaceTokenizer()\n",
        "lemmatizer = nltk.stem.WordNetLemmatizer()\n",
        "def lemmatize_words(text):\n",
        "    return [lemmatizer.lemmatize(w) for w in w_tokenizer.tokenize(text)]\n",
        "data['text_lemma'] = data['text_stem'].apply(lambda text: lemmatize_words(text))"
      ],
      "metadata": {
        "id": "k8ndlQ7P798w"
      },
      "execution_count": null,
      "outputs": []
    },
    {
      "cell_type": "code",
      "source": [
        "data.head()"
      ],
      "metadata": {
        "colab": {
          "base_uri": "https://localhost:8080/",
          "height": 319
        },
        "id": "63TPvS7v6lRl",
        "outputId": "cc392058-04ad-4705-cd6c-fb26f6daa385"
      },
      "execution_count": null,
      "outputs": [
        {
          "output_type": "execute_result",
          "data": {
            "text/plain": [
              "                                                Text  Sentiment  \\\n",
              "0                                 Crust is not good.          0   \n",
              "1          Not tasty and the texture was just nasty.          0   \n",
              "2  Stopped by during the late May bank holiday of...          1   \n",
              "3  The selection on the menu was great and so wer...          1   \n",
              "4     Now I am getting angry and I want my damn pho.          0   \n",
              "\n",
              "                                          text_punct  \\\n",
              "0                                  Crust is not good   \n",
              "1           Not tasty and the texture was just nasty   \n",
              "2  Stopped by during the late May bank holiday of...   \n",
              "3  The selection on the menu was great and so wer...   \n",
              "4      Now I am getting angry and I want my damn pho   \n",
              "\n",
              "                                       text_stopword  \\\n",
              "0                                         Crust good   \n",
              "1                            Not tasty texture nasty   \n",
              "2  Stopped late May bank holiday Rick Steve recom...   \n",
              "3                    The selection menu great prices   \n",
              "4                Now I getting angry I want damn pho   \n",
              "\n",
              "                                           text_stem  \\\n",
              "0                                  crust is not good   \n",
              "1             not tasti and the textur wa just nasti   \n",
              "2  stop by dure the late may bank holiday off ric...   \n",
              "3  the select on the menu wa great and so were th...   \n",
              "4          now i am get angri and i want my damn pho   \n",
              "\n",
              "                                          text_lemma  \n",
              "0                             [crust, is, not, good]  \n",
              "1    [not, tasti, and, the, textur, wa, just, nasti]  \n",
              "2  [stop, by, dure, the, late, may, bank, holiday...  \n",
              "3  [the, select, on, the, menu, wa, great, and, s...  \n",
              "4  [now, i, am, get, angri, and, i, want, my, dam...  "
            ],
            "text/html": [
              "\n",
              "  <div id=\"df-6273de72-2e7e-4ae7-8239-d8ae2c2a706b\">\n",
              "    <div class=\"colab-df-container\">\n",
              "      <div>\n",
              "<style scoped>\n",
              "    .dataframe tbody tr th:only-of-type {\n",
              "        vertical-align: middle;\n",
              "    }\n",
              "\n",
              "    .dataframe tbody tr th {\n",
              "        vertical-align: top;\n",
              "    }\n",
              "\n",
              "    .dataframe thead th {\n",
              "        text-align: right;\n",
              "    }\n",
              "</style>\n",
              "<table border=\"1\" class=\"dataframe\">\n",
              "  <thead>\n",
              "    <tr style=\"text-align: right;\">\n",
              "      <th></th>\n",
              "      <th>Text</th>\n",
              "      <th>Sentiment</th>\n",
              "      <th>text_punct</th>\n",
              "      <th>text_stopword</th>\n",
              "      <th>text_stem</th>\n",
              "      <th>text_lemma</th>\n",
              "    </tr>\n",
              "  </thead>\n",
              "  <tbody>\n",
              "    <tr>\n",
              "      <th>0</th>\n",
              "      <td>Crust is not good.</td>\n",
              "      <td>0</td>\n",
              "      <td>Crust is not good</td>\n",
              "      <td>Crust good</td>\n",
              "      <td>crust is not good</td>\n",
              "      <td>[crust, is, not, good]</td>\n",
              "    </tr>\n",
              "    <tr>\n",
              "      <th>1</th>\n",
              "      <td>Not tasty and the texture was just nasty.</td>\n",
              "      <td>0</td>\n",
              "      <td>Not tasty and the texture was just nasty</td>\n",
              "      <td>Not tasty texture nasty</td>\n",
              "      <td>not tasti and the textur wa just nasti</td>\n",
              "      <td>[not, tasti, and, the, textur, wa, just, nasti]</td>\n",
              "    </tr>\n",
              "    <tr>\n",
              "      <th>2</th>\n",
              "      <td>Stopped by during the late May bank holiday of...</td>\n",
              "      <td>1</td>\n",
              "      <td>Stopped by during the late May bank holiday of...</td>\n",
              "      <td>Stopped late May bank holiday Rick Steve recom...</td>\n",
              "      <td>stop by dure the late may bank holiday off ric...</td>\n",
              "      <td>[stop, by, dure, the, late, may, bank, holiday...</td>\n",
              "    </tr>\n",
              "    <tr>\n",
              "      <th>3</th>\n",
              "      <td>The selection on the menu was great and so wer...</td>\n",
              "      <td>1</td>\n",
              "      <td>The selection on the menu was great and so wer...</td>\n",
              "      <td>The selection menu great prices</td>\n",
              "      <td>the select on the menu wa great and so were th...</td>\n",
              "      <td>[the, select, on, the, menu, wa, great, and, s...</td>\n",
              "    </tr>\n",
              "    <tr>\n",
              "      <th>4</th>\n",
              "      <td>Now I am getting angry and I want my damn pho.</td>\n",
              "      <td>0</td>\n",
              "      <td>Now I am getting angry and I want my damn pho</td>\n",
              "      <td>Now I getting angry I want damn pho</td>\n",
              "      <td>now i am get angri and i want my damn pho</td>\n",
              "      <td>[now, i, am, get, angri, and, i, want, my, dam...</td>\n",
              "    </tr>\n",
              "  </tbody>\n",
              "</table>\n",
              "</div>\n",
              "      <button class=\"colab-df-convert\" onclick=\"convertToInteractive('df-6273de72-2e7e-4ae7-8239-d8ae2c2a706b')\"\n",
              "              title=\"Convert this dataframe to an interactive table.\"\n",
              "              style=\"display:none;\">\n",
              "        \n",
              "  <svg xmlns=\"http://www.w3.org/2000/svg\" height=\"24px\"viewBox=\"0 0 24 24\"\n",
              "       width=\"24px\">\n",
              "    <path d=\"M0 0h24v24H0V0z\" fill=\"none\"/>\n",
              "    <path d=\"M18.56 5.44l.94 2.06.94-2.06 2.06-.94-2.06-.94-.94-2.06-.94 2.06-2.06.94zm-11 1L8.5 8.5l.94-2.06 2.06-.94-2.06-.94L8.5 2.5l-.94 2.06-2.06.94zm10 10l.94 2.06.94-2.06 2.06-.94-2.06-.94-.94-2.06-.94 2.06-2.06.94z\"/><path d=\"M17.41 7.96l-1.37-1.37c-.4-.4-.92-.59-1.43-.59-.52 0-1.04.2-1.43.59L10.3 9.45l-7.72 7.72c-.78.78-.78 2.05 0 2.83L4 21.41c.39.39.9.59 1.41.59.51 0 1.02-.2 1.41-.59l7.78-7.78 2.81-2.81c.8-.78.8-2.07 0-2.86zM5.41 20L4 18.59l7.72-7.72 1.47 1.35L5.41 20z\"/>\n",
              "  </svg>\n",
              "      </button>\n",
              "      \n",
              "  <style>\n",
              "    .colab-df-container {\n",
              "      display:flex;\n",
              "      flex-wrap:wrap;\n",
              "      gap: 12px;\n",
              "    }\n",
              "\n",
              "    .colab-df-convert {\n",
              "      background-color: #E8F0FE;\n",
              "      border: none;\n",
              "      border-radius: 50%;\n",
              "      cursor: pointer;\n",
              "      display: none;\n",
              "      fill: #1967D2;\n",
              "      height: 32px;\n",
              "      padding: 0 0 0 0;\n",
              "      width: 32px;\n",
              "    }\n",
              "\n",
              "    .colab-df-convert:hover {\n",
              "      background-color: #E2EBFA;\n",
              "      box-shadow: 0px 1px 2px rgba(60, 64, 67, 0.3), 0px 1px 3px 1px rgba(60, 64, 67, 0.15);\n",
              "      fill: #174EA6;\n",
              "    }\n",
              "\n",
              "    [theme=dark] .colab-df-convert {\n",
              "      background-color: #3B4455;\n",
              "      fill: #D2E3FC;\n",
              "    }\n",
              "\n",
              "    [theme=dark] .colab-df-convert:hover {\n",
              "      background-color: #434B5C;\n",
              "      box-shadow: 0px 1px 3px 1px rgba(0, 0, 0, 0.15);\n",
              "      filter: drop-shadow(0px 1px 2px rgba(0, 0, 0, 0.3));\n",
              "      fill: #FFFFFF;\n",
              "    }\n",
              "  </style>\n",
              "\n",
              "      <script>\n",
              "        const buttonEl =\n",
              "          document.querySelector('#df-6273de72-2e7e-4ae7-8239-d8ae2c2a706b button.colab-df-convert');\n",
              "        buttonEl.style.display =\n",
              "          google.colab.kernel.accessAllowed ? 'block' : 'none';\n",
              "\n",
              "        async function convertToInteractive(key) {\n",
              "          const element = document.querySelector('#df-6273de72-2e7e-4ae7-8239-d8ae2c2a706b');\n",
              "          const dataTable =\n",
              "            await google.colab.kernel.invokeFunction('convertToInteractive',\n",
              "                                                     [key], {});\n",
              "          if (!dataTable) return;\n",
              "\n",
              "          const docLinkHtml = 'Like what you see? Visit the ' +\n",
              "            '<a target=\"_blank\" href=https://colab.research.google.com/notebooks/data_table.ipynb>data table notebook</a>'\n",
              "            + ' to learn more about interactive tables.';\n",
              "          element.innerHTML = '';\n",
              "          dataTable['output_type'] = 'display_data';\n",
              "          await google.colab.output.renderOutput(dataTable, element);\n",
              "          const docLink = document.createElement('div');\n",
              "          docLink.innerHTML = docLinkHtml;\n",
              "          element.appendChild(docLink);\n",
              "        }\n",
              "      </script>\n",
              "    </div>\n",
              "  </div>\n",
              "  "
            ]
          },
          "metadata": {},
          "execution_count": 133
        }
      ]
    },
    {
      "cell_type": "markdown",
      "source": [
        "**POS Tagging**"
      ],
      "metadata": {
        "id": "SvVHQ7CiqIhV"
      }
    },
    {
      "cell_type": "code",
      "source": [
        "from nltk.tokenize import word_tokenize\n",
        "from nltk import pos_tag, ne_chunk\n",
        "nltk.download('punkt')\n",
        "nltk.download('averaged_perceptron_tagger')\n",
        "nltk.download('maxent_ne_chunker')\n",
        "nltk.download('words')"
      ],
      "metadata": {
        "colab": {
          "base_uri": "https://localhost:8080/"
        },
        "id": "X6HcTt5mmjjf",
        "outputId": "4bdb5afd-7193-4d47-d9f2-31f65d48f263"
      },
      "execution_count": null,
      "outputs": [
        {
          "output_type": "stream",
          "name": "stderr",
          "text": [
            "[nltk_data] Downloading package punkt to /root/nltk_data...\n",
            "[nltk_data]   Package punkt is already up-to-date!\n",
            "[nltk_data] Downloading package averaged_perceptron_tagger to\n",
            "[nltk_data]     /root/nltk_data...\n",
            "[nltk_data]   Package averaged_perceptron_tagger is already up-to-\n",
            "[nltk_data]       date!\n",
            "[nltk_data] Downloading package maxent_ne_chunker to\n",
            "[nltk_data]     /root/nltk_data...\n",
            "[nltk_data]   Package maxent_ne_chunker is already up-to-date!\n",
            "[nltk_data] Downloading package words to /root/nltk_data...\n",
            "[nltk_data]   Package words is already up-to-date!\n"
          ]
        },
        {
          "output_type": "execute_result",
          "data": {
            "text/plain": [
              "True"
            ]
          },
          "metadata": {},
          "execution_count": 134
        }
      ]
    },
    {
      "cell_type": "code",
      "source": [
        "text = 'Took an hour to get our food only 4 tables in restaurant my food was Luke warm our sever was running around like he was totally overwhelmed'"
      ],
      "metadata": {
        "id": "-PDjFpIGmm_t"
      },
      "execution_count": null,
      "outputs": []
    },
    {
      "cell_type": "markdown",
      "source": [
        "**Word Tokenization**"
      ],
      "metadata": {
        "id": "2uvKGzqSqXdX"
      }
    },
    {
      "cell_type": "code",
      "source": [
        "words = word_tokenize(text)\n",
        "print(words)"
      ],
      "metadata": {
        "colab": {
          "base_uri": "https://localhost:8080/"
        },
        "id": "KDUcLQT5pK6S",
        "outputId": "75cf6e49-6cd4-4d96-e6b3-276526973d89"
      },
      "execution_count": null,
      "outputs": [
        {
          "output_type": "stream",
          "name": "stdout",
          "text": [
            "['Took', 'an', 'hour', 'to', 'get', 'our', 'food', 'only', '4', 'tables', 'in', 'restaurant', 'my', 'food', 'was', 'Luke', 'warm', 'our', 'sever', 'was', 'running', 'around', 'like', 'he', 'was', 'totally', 'overwhelmed']\n"
          ]
        }
      ]
    },
    {
      "cell_type": "markdown",
      "source": [
        "**Part-of-speech tagging**"
      ],
      "metadata": {
        "id": "hWnNIUcdqejf"
      }
    },
    {
      "cell_type": "code",
      "source": [
        "tagged_words = pos_tag(words)\n",
        "print(tagged_words)"
      ],
      "metadata": {
        "colab": {
          "base_uri": "https://localhost:8080/"
        },
        "id": "a4aX0_onpP02",
        "outputId": "d73dd7a2-1e04-4212-bd71-3e29c7505da6"
      },
      "execution_count": null,
      "outputs": [
        {
          "output_type": "stream",
          "name": "stdout",
          "text": [
            "[('Took', 'NNP'), ('an', 'DT'), ('hour', 'NN'), ('to', 'TO'), ('get', 'VB'), ('our', 'PRP$'), ('food', 'NN'), ('only', 'RB'), ('4', 'CD'), ('tables', 'NNS'), ('in', 'IN'), ('restaurant', 'NN'), ('my', 'PRP$'), ('food', 'NN'), ('was', 'VBD'), ('Luke', 'NNP'), ('warm', 'JJ'), ('our', 'PRP$'), ('sever', 'NN'), ('was', 'VBD'), ('running', 'VBG'), ('around', 'RB'), ('like', 'IN'), ('he', 'PRP'), ('was', 'VBD'), ('totally', 'RB'), ('overwhelmed', 'JJ')]\n"
          ]
        }
      ]
    },
    {
      "cell_type": "markdown",
      "source": [
        "**Chunk Parser**"
      ],
      "metadata": {
        "id": "DGH6uHI9qne8"
      }
    },
    {
      "cell_type": "code",
      "source": [
        "tree = ne_chunk(tagged_words)\n",
        "print(tree)"
      ],
      "metadata": {
        "colab": {
          "base_uri": "https://localhost:8080/"
        },
        "id": "wgXYN1fRqqZA",
        "outputId": "7b1be68b-4e1a-4088-ed4a-e39a2931cd45"
      },
      "execution_count": null,
      "outputs": [
        {
          "output_type": "stream",
          "name": "stdout",
          "text": [
            "(S\n",
            "  (GPE Took/NNP)\n",
            "  an/DT\n",
            "  hour/NN\n",
            "  to/TO\n",
            "  get/VB\n",
            "  our/PRP$\n",
            "  food/NN\n",
            "  only/RB\n",
            "  4/CD\n",
            "  tables/NNS\n",
            "  in/IN\n",
            "  restaurant/NN\n",
            "  my/PRP$\n",
            "  food/NN\n",
            "  was/VBD\n",
            "  (PERSON Luke/NNP)\n",
            "  warm/JJ\n",
            "  our/PRP$\n",
            "  sever/NN\n",
            "  was/VBD\n",
            "  running/VBG\n",
            "  around/RB\n",
            "  like/IN\n",
            "  he/PRP\n",
            "  was/VBD\n",
            "  totally/RB\n",
            "  overwhelmed/JJ)\n"
          ]
        }
      ]
    },
    {
      "cell_type": "markdown",
      "source": [
        "**Identify named entities**"
      ],
      "metadata": {
        "id": "_rKcOyJyp3uy"
      }
    },
    {
      "cell_type": "code",
      "source": [
        "import spacy\n",
        "nlp = spacy.load('en_core_web_sm')\n",
        "doc = nlp(text)\n",
        "for ent in doc.ents:\n",
        "  print(ent.text, ent.label_)"
      ],
      "metadata": {
        "colab": {
          "base_uri": "https://localhost:8080/"
        },
        "id": "Fje6qXlwphFy",
        "outputId": "cc447403-048d-4eb8-dcc5-b4089b7b5ac1"
      },
      "execution_count": null,
      "outputs": [
        {
          "output_type": "stream",
          "name": "stdout",
          "text": [
            "an hour TIME\n",
            "only 4 CARDINAL\n",
            "Luke PERSON\n"
          ]
        }
      ]
    },
    {
      "cell_type": "markdown",
      "source": [
        "**Train-Test split**"
      ],
      "metadata": {
        "id": "mLpNOLitNCsY"
      }
    },
    {
      "cell_type": "code",
      "source": [
        "from sklearn.model_selection import train_test_split"
      ],
      "metadata": {
        "id": "k9Xp0W4RNHiJ"
      },
      "execution_count": null,
      "outputs": []
    },
    {
      "cell_type": "code",
      "source": [
        "(x_train,x_test,y_train,y_test)=train_test_split(x,y,test_size=0.4)"
      ],
      "metadata": {
        "id": "gpPrmiT7NMHa"
      },
      "execution_count": null,
      "outputs": []
    },
    {
      "cell_type": "code",
      "source": [
        "x_train.shape #text"
      ],
      "metadata": {
        "colab": {
          "base_uri": "https://localhost:8080/"
        },
        "id": "Yxwd-WzQNM43",
        "outputId": "f4de814f-58f5-4d7d-edbd-671f86cf3c88"
      },
      "execution_count": null,
      "outputs": [
        {
          "output_type": "execute_result",
          "data": {
            "text/plain": [
              "(599,)"
            ]
          },
          "metadata": {},
          "execution_count": 142
        }
      ]
    },
    {
      "cell_type": "code",
      "source": [
        "y_train.shape #sentiment"
      ],
      "metadata": {
        "colab": {
          "base_uri": "https://localhost:8080/"
        },
        "id": "ky4kbD1dNRL0",
        "outputId": "dd7b3595-b06d-474e-d2d0-bbbb699c8a11"
      },
      "execution_count": null,
      "outputs": [
        {
          "output_type": "execute_result",
          "data": {
            "text/plain": [
              "(599,)"
            ]
          },
          "metadata": {},
          "execution_count": 143
        }
      ]
    },
    {
      "cell_type": "code",
      "source": [
        "x_test.shape #text"
      ],
      "metadata": {
        "colab": {
          "base_uri": "https://localhost:8080/"
        },
        "id": "WxfdrPCqNWjF",
        "outputId": "22f06d10-eae7-4f96-f271-95e5d3be493a"
      },
      "execution_count": null,
      "outputs": [
        {
          "output_type": "execute_result",
          "data": {
            "text/plain": [
              "(400,)"
            ]
          },
          "metadata": {},
          "execution_count": 144
        }
      ]
    },
    {
      "cell_type": "code",
      "source": [
        "y_test.shape #sentiment"
      ],
      "metadata": {
        "colab": {
          "base_uri": "https://localhost:8080/"
        },
        "id": "Vo7nVF0lNcIj",
        "outputId": "e5322ce5-83f8-412b-9afb-18f3ededcadc"
      },
      "execution_count": null,
      "outputs": [
        {
          "output_type": "execute_result",
          "data": {
            "text/plain": [
              "(400,)"
            ]
          },
          "metadata": {},
          "execution_count": 145
        }
      ]
    },
    {
      "cell_type": "code",
      "source": [
        "x_train"
      ],
      "metadata": {
        "colab": {
          "base_uri": "https://localhost:8080/"
        },
        "id": "9c6sOEQ9Nhpl",
        "outputId": "9d4c5909-5b2f-482c-fa21-1fef72fe22f1"
      },
      "execution_count": null,
      "outputs": [
        {
          "output_type": "execute_result",
          "data": {
            "text/plain": [
              "array([\"How can you call yourself a steakhouse if you can't properly cook a steak, I don't understand!\",\n",
              "       \"The servers are not pleasant to deal with and they don't always honor Pizza Hut coupons.\",\n",
              "       'He deserves 5 stars.',\n",
              "       'Tonight I had the Elk Filet special...and it sucked.',\n",
              "       \"This isn't a small family restaurant, this is a fine dining establishment.\",\n",
              "       \"I also had to taste my Mom's multi-grain pumpkin pancakes with pecan butter and they were amazing, fluffy, and delicious!\",\n",
              "       'Pricing is a bit of a concern at Mellow Mushroom.',\n",
              "       'We ordered the duck rare and it was pink and tender on the inside with a nice char on the outside.',\n",
              "       'A great touch.', 'The Veggitarian platter is out of this world!',\n",
              "       'Service is also cute.',\n",
              "       \"Great Subway, in fact it's so good when you come here every other Subway will not meet your expectations.\",\n",
              "       'Great Pizza and Salads!',\n",
              "       \"The only good thing was our waiter, he was very helpful and kept the bloddy mary's coming.\",\n",
              "       \"If it were possible to give them zero stars, they'd have it.\",\n",
              "       'Lordy, the Khao Soi is a dish that is not to be missed for curry lovers!',\n",
              "       \"I as well would've given godfathers zero stars if possible.\",\n",
              "       'Interesting decor.',\n",
              "       'In the summer, you can dine in a charming outdoor patio - so very delightful.',\n",
              "       'Best breakfast buffet!!!', 'Love the margaritas, too!',\n",
              "       'We loved the place.',\n",
              "       'Although I very much liked the look and sound of this place, the actual experience was a bit disappointing.',\n",
              "       'I also decided not to send it back because our waitress looked like she was on the verge of having a heart attack.',\n",
              "       'The chips and salsa were really good, the salsa was very fresh.',\n",
              "       'Unfortunately, it only set us up for disapppointment with our entrees.',\n",
              "       'Join the club and get awesome offers via email.',\n",
              "       'I was shocked because no signs indicate cash only.',\n",
              "       'The Macarons here are insanely good.',\n",
              "       'The food was very good and I enjoyed every mouthful, an enjoyable relaxed venue for couples small family groups etc.',\n",
              "       'They really want to make your experience a good one.',\n",
              "       'If you want to wait for mediocre food and downright terrible service, then this is the place for you.',\n",
              "       'The live music on Fridays totally blows.',\n",
              "       'A couple of months later, I returned and had an amazing meal.',\n",
              "       'I have eaten here multiple times, and each time the food was delicious.',\n",
              "       \"I've never been more insulted or felt disrespected.\",\n",
              "       'first time there and might just be the last.',\n",
              "       \"(It wasn't busy either) Also, the building was FREEZING cold.\",\n",
              "       'Also there are combos like a burger, fries, and beer for 23 which is a decent deal.',\n",
              "       'Server did a great job handling our large rowdy table.',\n",
              "       \"this is the worst sushi i have ever eat besides Costco's.\",\n",
              "       '-Drinks took close to 30 minutes to come out at one point.',\n",
              "       'Dessert: Panna Cotta was amazing.', 'Will not be back!',\n",
              "       'Food was great and so was the serivce!',\n",
              "       'Service is quick and friendly.',\n",
              "       'Service is friendly and inviting.',\n",
              "       \"All in all, I can assure you I'll be back.\",\n",
              "       'Ambience is perfect.',\n",
              "       \"Bland... Not a liking this place for a number of reasons and I don't want to waste time on bad reviewing.. I'll leave it at that...\",\n",
              "       \"We thought you'd have to venture further away to get good sushi, but this place really hit the spot that night.\",\n",
              "       'I would not recommend this place.',\n",
              "       'Both of the egg rolls were fantastic.',\n",
              "       'The best place to go for a tasty bowl of Pho!',\n",
              "       \"I don't each much pasta, but I love the homemade /hand made pastas and thin pizzas here.\",\n",
              "       'I found a six inch long piece of wire in my salsa.',\n",
              "       'The chicken wings contained the driest chicken meat I have ever eaten.',\n",
              "       \"I'm not impressed with the concept or the food.\",\n",
              "       'The only redeeming quality of the restaurant was that it was very inexpensive.',\n",
              "       'This is my new fav Vegas buffet spot.',\n",
              "       'We loved the biscuits!!!', 'Strike 2, who wants to be rushed.',\n",
              "       'I vomited in the bathroom mid lunch.',\n",
              "       'Phenomenal food, service and ambiance.',\n",
              "       'Waitress was good though!', 'Food was delicious!',\n",
              "       \"Probably never coming back, and wouldn't recommend it.\",\n",
              "       'Awful service.', 'I was so insulted.',\n",
              "       'If that bug never showed up I would have given a 4 for sure, but on the other side of the wall where this bug was climbing was the kitchen.',\n",
              "       \"I live in the neighborhood so I am disappointed I won't be back here, because it is a convenient location.\",\n",
              "       'I dont think I will be back for a very long time.',\n",
              "       'AVOID THIS ESTABLISHMENT!', \"I won't be back.\",\n",
              "       \"These are the nicest restaurant owners I've ever come across.\",\n",
              "       \"The only thing I wasn't too crazy about was their guacamole as I don't like it puréed.\",\n",
              "       'Today was my first taste of a Buldogis Gourmet Hot Dog and I have to tell you it was more than I ever thought possible.',\n",
              "       'He was extremely rude and really, there are so many other restaurants I would love to dine at during a weekend in Vegas.',\n",
              "       \"But I don't like it.\", 'No complaints!',\n",
              "       'We waited an hour for what was a breakfast I could have done 100 times better at home.',\n",
              "       'The service was a little slow , considering that were served by 3 people servers so the food was coming in a slow pace.',\n",
              "       'This was my first crawfish experience, and it was delicious!',\n",
              "       'Not tasty and the texture was just nasty.',\n",
              "       'It took over 30 min to get their milkshake, which was nothing more than chocolate milk.',\n",
              "       'I loved the grilled pizza, reminded me of legit Italian pizza.',\n",
              "       'Sorry, I will not be getting food from here anytime soon :(',\n",
              "       \"I don't think I'll be running back to Carly's anytime soon for food.\",\n",
              "       'They also have the best cheese crisp in town.',\n",
              "       '5 stars for the brick oven bread app!',\n",
              "       \"We asked for the bill to leave without eating and they didn't bring that either.\",\n",
              "       \"Sadly, Gordon Ramsey's Steak is a place we shall sharply avoid during our next trip to Vegas.\",\n",
              "       'The only reason to eat here would be to fill up before a night of binge drinking just to get some carbs in your stomach.',\n",
              "       \"Then, as if I hadn't wasted enough of my life there, they poured salt in the wound by drawing out the time it took to bring the check.\",\n",
              "       'I got to enjoy the seafood salad, with a fabulous vinegrette.',\n",
              "       'Very disappointing!!!', \"I'd love to go back.\",\n",
              "       'I love the owner/chef, his one authentic Japanese cool dude!',\n",
              "       'The Buffet at Bellagio was far from what I anticipated.',\n",
              "       'She ordered a toasted English muffin that came out untoasted.',\n",
              "       'Both of them were truly unbelievably good, and I am so glad we went back.',\n",
              "       'I got home to see the driest damn wings ever!',\n",
              "       \"It's like a really sexy party in your mouth, where you're outrageously flirting with the hottest person at the party.\",\n",
              "       \"Perhaps I caught them on an off night judging by the other reviews, but I'm not inspired to go back.\",\n",
              "       'Lobster Bisque, Bussell Sprouts, Risotto, Filet ALL needed salt and pepper..and of course there is none at the tables.',\n",
              "       'Everyone is very attentive, providing excellent customer service.',\n",
              "       'DELICIOUS!!',\n",
              "       'The cashew cream sauce was bland and the vegetables were undercooked.',\n",
              "       'The staff was very attentive.',\n",
              "       '(The bathroom is just next door and very nice.)',\n",
              "       '* Both the Hot & Sour & the Egg Flower Soups were absolutely 5 Stars!',\n",
              "       'Any grandmother can make a roasted chicken better than this one.',\n",
              "       'My fiancé and I came in the middle of the day and we were greeted and seated right away.',\n",
              "       'Kids pizza is always a hit too with lots of great side dish options for the kiddos!',\n",
              "       'What a mistake.',\n",
              "       'OMG I felt like I had never eaten Thai food until this dish.',\n",
              "       \"For about 10 minutes, we we're waiting for her salad when we realized that it wasn't coming any time soon.\",\n",
              "       'Great place to relax and have an awesome burger and beer.',\n",
              "       'Great food and great service in a clean and friendly setting.',\n",
              "       'Not to mention the combination of pears, almonds and bacon is a big winner!',\n",
              "       'The one down note is the ventilation could use some upgrading.',\n",
              "       'I know this is not like the other restaurants at all, something is very off here!',\n",
              "       'I found this place by accident and I could not be happier.',\n",
              "       'I checked out this place a couple years ago and was not impressed.',\n",
              "       'I love the decor with the Chinese calligraphy wall paper.',\n",
              "       'The crêpe was delicate and thin and moist.',\n",
              "       'I had the mac salad and it was pretty bland so I will not be getting that again.',\n",
              "       'Waitress was a little slow in service.', \"Won't go back.\",\n",
              "       'Frozen pucks of disgust, with some of the worst people behind the register.',\n",
              "       \"It's a great place and I highly recommend it.\",\n",
              "       'Classy/warm atmosphere, fun and fresh appetizers, succulent steaks (Baseball steak!!!!!',\n",
              "       'The atmosphere here is fun.',\n",
              "       'Be sure to order dessert, even if you need to pack it to-go - the tiramisu and cannoli are both to die for.',\n",
              "       \"Overall I wasn't very impressed with Noca.\",\n",
              "       'The cashier was friendly and even brought the food out to me.',\n",
              "       \"The goat taco didn't skimp on the meat and wow what FLAVOR!\",\n",
              "       'Perfect for someone (me) who only likes beer ice cold, or in this case, even colder.',\n",
              "       'I think food should have flavor and texture and both were lacking.',\n",
              "       'If she had not rolled the eyes we may have stayed... Not sure if we will go back and try it again.',\n",
              "       'Service was good and the company was better!',\n",
              "       'I hope this place sticks around.',\n",
              "       'Food is way overpriced and portions are fucking small.',\n",
              "       'Nice ambiance.', 'Hands down my favorite Italian restaurant!',\n",
              "       'Overall, a great experience.',\n",
              "       \"My fella got the huevos rancheros and they didn't look too appealing.\",\n",
              "       'I immediately said I wanted to talk to the manager but I did not want to talk to the guy who was doing shots of fireball behind the bar.',\n",
              "       'My wife had the Lobster Bisque soup which was lukewarm.',\n",
              "       'To my disbelief, each dish qualified as the worst version of these foods I have ever tasted.',\n",
              "       'The steaks are all well trimmed and also perfectly cooked.',\n",
              "       'Pretty good beer selection too.', 'Damn good steak.',\n",
              "       'This place is disgusting!', 'Would not go back.',\n",
              "       'Stopped by during the late May bank holiday off Rick Steve recommendation and loved it.',\n",
              "       'Needless to say, we will never be back here again.',\n",
              "       'The steak was amazing...rge fillet relleno was the best seafood plate i have ever had!',\n",
              "       \"I can assure you that you won't be disappointed.\",\n",
              "       \"Maybe if they weren't cold they would have been somewhat edible.\",\n",
              "       'I did not expect this to be so good!',\n",
              "       'I was seated immediately.', 'The Burrittos Blah!',\n",
              "       'I will never go back to this place and will never ever recommended this place to anyone!',\n",
              "       'We were promptly greeted and seated.',\n",
              "       'I paid the bill but did not tip because I felt the server did a terrible job.',\n",
              "       'This is an Outstanding little restaurant with some of the Best Food I have ever tasted.',\n",
              "       '2 Thumbs Up!!', 'A fantastic neighborhood gem !!!',\n",
              "       'Very good lunch spot.', \"We'd definitely go back here again.\",\n",
              "       'Delicious and I will absolutely be back!',\n",
              "       'I had a salad with the wings, and some ice cream for dessert and left feeling quite satisfied.',\n",
              "       'I ordered the Lemon raspberry ice cocktail which was also incredible.',\n",
              "       \"Horrible - don't waste your time and money.\",\n",
              "       'I swung in to give them a try but was deeply disappointed.',\n",
              "       'I will not be eating there again.',\n",
              "       'I was disgusted because I was pretty sure that was human hair.',\n",
              "       \"Also, the fries are without a doubt the worst fries I've ever had.\",\n",
              "       'Food was average at best.', 'I *heart* this place.',\n",
              "       'I was mortified.',\n",
              "       'The pizza tasted old, super chewy in not a good way.',\n",
              "       'Great place fo take out or eat in.',\n",
              "       'the potatoes were great and so was the biscuit.',\n",
              "       'We definately enjoyed ourselves.',\n",
              "       'By far the BEST cheesecurds we have ever had!',\n",
              "       'Service is quick and even \"to go\" orders are just like we like it!',\n",
              "       'The selection of food was not the best.', 'I think not again',\n",
              "       \"Paying $7.85 for a hot dog and fries that looks like it came out of a kid's meal at the Wienerschnitzel is not my idea of a good meal.\",\n",
              "       \"Now the burgers aren't as good, the pizza which used to be amazing is doughy and flavorless.\",\n",
              "       'So good I am going to have to review this place twice - once hereas a tribute to the place and once as a tribute to an event held here last night.',\n",
              "       'Last night was my second time dining here and I was so happy I decided to go back!',\n",
              "       \"Based on the sub-par service I received and no effort to show their gratitude for my business I won't be going back.\",\n",
              "       \"This was my first time and I can't wait until the next.\",\n",
              "       'The food was delicious, our bartender was attentive and personable AND we got a great deal!',\n",
              "       'The jalapeno bacon is soooo good.',\n",
              "       \"After all the rave reviews I couldn't wait to eat here......what a disappointment!\",\n",
              "       'Things that went wrong: - They burned the saganaki.',\n",
              "       'I had a pretty satifying experience.',\n",
              "       \"This place is a jewel in Las Vegas, and exactly what I've been hoping to find in nearly ten years living here.\",\n",
              "       'We had a group of 70+ when we claimed we would only have 40 and they handled us beautifully.',\n",
              "       'The seasonal fruit was fresh white peach puree.',\n",
              "       'The service here is fair at best.',\n",
              "       'The bus boy on the other hand was so rude.',\n",
              "       'I loved the bacon wrapped dates.', 'Pretty awesome place.',\n",
              "       'This place is two thumbs up....way up.',\n",
              "       'The steak and the shrimp are in my opinion the best entrees at GC.',\n",
              "       'I kept looking at the time and it had soon become 35 minutes, yet still no food.',\n",
              "       \"I'll take my business dinner dollars elsewhere.\",\n",
              "       'I dressed up to be treated so rudely!',\n",
              "       'Tried to go here for lunch and it was a madhouse.', 'I LOVED it!',\n",
              "       'definitely will come back here again.',\n",
              "       'Not much flavor to them, and very poorly constructed.',\n",
              "       'The folks at Otto always make us feel so welcome and special.',\n",
              "       'This place is great!!!!!!!!!!!!!!',\n",
              "       'The restaurant atmosphere was exquisite.',\n",
              "       'The feel of the dining room was more college cooking course than high class dining and the service was slow at best.',\n",
              "       'Our server was very nice and attentive as were the other serving staff.',\n",
              "       \"Just don't know why they were so slow.\",\n",
              "       'This place deserves one star and 90% has to do with the food.',\n",
              "       \"I find wasting food to be despicable, but this just wasn't food.\",\n",
              "       'very slow at seating even with reservation.', 'The food is good.',\n",
              "       'Highly unprofessional and rude to a loyal patron!',\n",
              "       'This place is like Chipotle, but BETTER.',\n",
              "       'Service was excellent and prices are pretty reasonable considering this is Vegas and located inside the Crystals shopping mall by Aria.',\n",
              "       'An extensive menu provides lots of options for breakfast.',\n",
              "       \"Worst food/service I've had in a while.\",\n",
              "       'Eew... This location needs a complete overhaul.',\n",
              "       'Kind of hard to mess up a steak but they did.',\n",
              "       'Appetite instantly gone.',\n",
              "       \"I started this review with two stars, but I'm editing it to give it only one.\",\n",
              "       \"I promise they won't disappoint.\",\n",
              "       'But the service was beyond bad.',\n",
              "       'I liked the patio and the service was outstanding.',\n",
              "       \"Definitely worth venturing off the strip for the pork belly, will return next time I'm in Vegas.\",\n",
              "       'The service was a bit lacking.',\n",
              "       \"It's close to my house, it's low-key, non-fancy, affordable prices, good food.\",\n",
              "       'I asked multiple times for the wine list and after some time of being ignored I went to the hostess and got one myself.',\n",
              "       'the presentation of the food was awful.',\n",
              "       'The scallop dish is quite appalling for value as well.',\n",
              "       'It also took her forever to bring us the check when we asked for it.',\n",
              "       'After two I felt disgusting.', \"I'm not eating here!\",\n",
              "       'Not a weekly haunt, but definitely a place to come back to every once in a while.',\n",
              "       'Now I am getting angry and I want my damn pho.',\n",
              "       'I consider this theft.', 'Great service and food.',\n",
              "       'First - the bathrooms at this location were dirty- Seat covers were not replenished & just plain yucky!!!',\n",
              "       \"I'm super pissd.\", 'It was equally awful.',\n",
              "       \"Best fish I've ever had in my life!\",\n",
              "       \"I just don't know how this place managed to served the blandest food I have ever eaten when they are preparing Indian cuisine.\",\n",
              "       'The black eyed peas and sweet potatoes... UNREAL!',\n",
              "       'Their monster chicken fried steak and eggs is my all time favorite.',\n",
              "       \"I personally love the hummus, pita, baklava, falafels and Baba Ganoush (it's amazing what they do with eggplant!).\",\n",
              "       'I had to wait over 30 minutes to get my drink and longer to get 2 arepas.',\n",
              "       'We got sitting fairly fast, but, ended up waiting 40 minutes just to place our order, another 30 minutes before the food arrived.',\n",
              "       'Try them in the airport to experience some tasty food and speedy, friendly service.',\n",
              "       'The service was terrible, food was mediocre.',\n",
              "       'That just SCREAMS \"LEGIT\" in my book...somethat\\'s also pretty rare here in Vegas.',\n",
              "       'After the disappointing dinner we went elsewhere for dessert.',\n",
              "       'If you want healthy authentic or ethic food, try this place.',\n",
              "       'It was delicious!!!', 'Never going back.',\n",
              "       'Have been going since 2007 and every meal has been awesome!!',\n",
              "       'Those burgers were amazing.',\n",
              "       \"I don't have very many words to say about this place, but it does everything pretty well.\",\n",
              "       'I probably would not go here again.',\n",
              "       'Crostini that came with the salad was stale.',\n",
              "       'Why are these sad little vegetables so overcooked?',\n",
              "       'Weird vibe from owners.', 'The service was meh.',\n",
              "       'The chicken I got was definitely reheated and was only ok, the wedges were cold and soggy.',\n",
              "       'My brother in law who works at the mall ate here same day, and guess what he was sick all night too.',\n",
              "       \"One nice thing was that they added gratuity on the bill since our party was larger than 6 or 8, and they didn't expect more tip than that.\",\n",
              "       'I had the opportunity today to sample your amazing pizzas!',\n",
              "       \"If someone orders two tacos don't' you think it may be part of customer service to ask if it is combo or ala cart?\",\n",
              "       'Not my thing.', 'So absolutley fantastic.',\n",
              "       \"I can't wait to go back.\",\n",
              "       \"By this point, my friends and I had basically figured out this place was a joke and didn't mind making it publicly and loudly known.\",\n",
              "       \"Coming here is like experiencing an underwhelming relationship where both parties can't wait for the other person to ask to break up.\",\n",
              "       'Now the pizza itself was good the peanut sauce was very tasty.',\n",
              "       'Waited 2 hours & never got either of our pizzas as many other around us who came in later did!',\n",
              "       'The yellowtail carpaccio was melt in your mouth fresh.',\n",
              "       'This wonderful experience made this place a must-stop whenever we are in town again.',\n",
              "       'We could not believe how dirty the oysters were!',\n",
              "       'Good service, very clean, and inexpensive, to boot!',\n",
              "       \"And the red curry had so much bamboo shoots and wasn't very tasty to me.\",\n",
              "       'The chips that came out were dripping with grease, and mostly not edible.',\n",
              "       'I really enjoyed Crema Café before they expanded; I even told friends they had the BEST breakfast.',\n",
              "       \"Great place to have a couple drinks and watch any and all sporting events as the walls are covered with TV's.\",\n",
              "       'Always a pleasure dealing with him.',\n",
              "       'So we went to Tigerlilly and had a fantastic afternoon!',\n",
              "       \"The place was fairly clean but the food simply wasn't worth it.\",\n",
              "       \"The waiter wasn't helpful or friendly and rarely checked on us.\",\n",
              "       'From what my dinner companions told me...everything was very fresh with nice texture and taste.',\n",
              "       'This is a great restaurant at the Mandalay Bay.',\n",
              "       'Special thanks to Dylan T. for the recommendation on what to order :) All yummy for my tummy.',\n",
              "       'Very convenient, since we were staying at the MGM!',\n",
              "       'Come hungry, leave happy and stuffed!',\n",
              "       'Talk about great customer service of course we will be back.',\n",
              "       'Bacon is hella salty.', 'I really enjoyed eating here.',\n",
              "       'The staff is great, the food is delish, and they have an incredible beer selection.',\n",
              "       'When I received my Pita it was huge it did have a lot of meat in it so thumbs up there.',\n",
              "       'The block was amazing.',\n",
              "       \"I've had better bagels from the grocery store.\",\n",
              "       'Their menu is diverse, and reasonably priced.',\n",
              "       \"We started with the tuna sashimi which was brownish in color and obviously wasn't fresh.\",\n",
              "       '2 times - Very Bad Customer Service !',\n",
              "       'It was attached to a gas station, and that is rarely a good sign.',\n",
              "       'Food arrived quickly!', 'Extremely Tasty!',\n",
              "       \"I'm probably one of the few people to ever go to Ians and not like it.\",\n",
              "       'The service was great, even the manager came and helped with our table.',\n",
              "       'What SHOULD have been a hilarious, yummy Christmas Eve dinner to remember was the biggest fail of the entire trip for us.',\n",
              "       'Best tater tots in the southwest.', 'And then tragedy struck.',\n",
              "       'The management is rude.',\n",
              "       'The food sucked, which we expected but it sucked more than we could have imagined.',\n",
              "       'The food was barely lukewarm, so it must have been sitting waiting for the server to bring it out to us.',\n",
              "       'Stopped by this place while in Madison for the Ironman, very friendly, kind staff.',\n",
              "       'Before I go in to why I gave a 1 star rating please know that this was my third time eating at Bachi burger before writing a review.',\n",
              "       \"Main thing I didn't enjoy is that the crowd is of older crowd, around mid 30s and up.\",\n",
              "       'The ambience is wonderful and there is music playing.',\n",
              "       'On three different occasions I asked for well done or medium well, and all three times I got the bloodiest piece of meat on my plate.',\n",
              "       'Their regular toasted bread was equally satisfying with the occasional pats of butter... Mmmm...!',\n",
              "       'The ambiance here did not feel like a buffet setting, but more of a douchey indoor garden for tea and biscuits.',\n",
              "       'Favorite place in town for shawarrrrrrma!!!!!!',\n",
              "       'I came back today since they relocated and still not impressed.',\n",
              "       'Cant say enough good things about this place.',\n",
              "       'My friend loved the salmon tartar.',\n",
              "       'To summarize... the food was incredible, nay, transcendant... but nothing brings me joy quite like the memory of the pneumatic condiment dispenser.',\n",
              "       'I left with a stomach ache and felt sick the rest of the day.',\n",
              "       'For a self proclaimed coffee cafe, I was wildly disappointed.',\n",
              "       \"The guys all had steaks, and our steak loving son who has had steak at the best and worst places said it was the best steak he's ever eaten.\",\n",
              "       'I guess maybe we went on an off night but it was disgraceful.',\n",
              "       'I want to first say our server was great and we had perfect service.',\n",
              "       'The ambiance was incredible.', \"Don't bother coming here.\",\n",
              "       'Terrible service!',\n",
              "       'The food is delicious and just spicy enough, so be sure to ask for spicier if you prefer it that way.',\n",
              "       'They have a really nice atmosphere.',\n",
              "       'An excellent new restaurant by an experienced Frenchman.',\n",
              "       'There was hardly any meat.',\n",
              "       'Very Very Disappointed ordered the $35 Big Bay Plater.',\n",
              "       'I will not return.',\n",
              "       'The pancake was also really good and pretty large at that.',\n",
              "       \"I like Steiners because it's dark and it feels like a bar.\",\n",
              "       'Do not waste your money here!', 'Very friendly staff.',\n",
              "       \"If you're not familiar, check it out.\",\n",
              "       'We ordered some old classics and some new dishes after going there a few times and were sorely disappointed with everything.',\n",
              "       \"So don't go there if you are looking for good food...\",\n",
              "       'Avoid at all cost!',\n",
              "       'The vegetables are so fresh and the sauce feels like authentic Thai.',\n",
              "       \"I'd say that would be the hardest decision... Honestly, all of M's dishes taste how they are supposed to taste (amazing).\",\n",
              "       \"Once you get inside you'll be impressed with the place.\",\n",
              "       'On the up side, their cafe serves really good food.',\n",
              "       'Love this place, hits the spot when I want something healthy but not lacking in quantity or flavor.',\n",
              "       'The bartender was also nice.',\n",
              "       'Their daily specials are always a hit with my group.',\n",
              "       'The cow tongue and cheek tacos are amazing.',\n",
              "       'Shrimp- When I unwrapped it (I live only 1/2 a mile from Brushfire) it was literally ice cold.',\n",
              "       'I love this place.',\n",
              "       'The waitress was friendly and happy to accomodate for vegan/veggie options.',\n",
              "       'I think this restaurant suffers from not trying hard enough.',\n",
              "       \"They have horrible attitudes towards customers, and talk down to each one when customers don't enjoy their food.\",\n",
              "       'It was either too cold, not enough flavor or just bad.',\n",
              "       'As for the service, I thought it was good.',\n",
              "       'This hole in the wall has great Mexican street tacos, and friendly staff.',\n",
              "       \"In fact I'm going to round up to 4 stars, just because she was so awesome.\",\n",
              "       'The burger... I got the \"Gold Standard\" a $17 burger and was kind of disappointed.',\n",
              "       'Not a single employee came out to see if we were OK or even needed a water refill once they finally served us our food.',\n",
              "       'Restaurant is always full but never a wait.',\n",
              "       'Food was really good and I got full petty fast.', 'Over rated.',\n",
              "       'Waiter was a jerk.',\n",
              "       'The best place in Vegas for breakfast (just check out a Sat, or Sun.',\n",
              "       'Just spicy enough.. Perfect actually.',\n",
              "       \"I can't tell you how disappointed I was.\",\n",
              "       'Left very frustrated.',\n",
              "       'You get incredibly fresh fish, prepared with care.',\n",
              "       'Seriously flavorful delights, folks.',\n",
              "       'The classic Maine Lobster Roll was fantastic.',\n",
              "       'WAAAAAAyyyyyyyyyy over rated is all I am saying.',\n",
              "       \"This is some seriously good pizza and I'm an expert/connisseur on the topic.\",\n",
              "       'The food was excellent and service was very good.',\n",
              "       'Good food , good service .',\n",
              "       \"We aren't ones to make a scene at restaurants but I just don't get it...definitely lost the love after this one!\",\n",
              "       'The food was very good.',\n",
              "       \"We've have gotten a much better service from the pizza place next door than the services we received from this restaurant.\",\n",
              "       'I believe that this place is a great stop for those with a huge belly and hankering for sushi.',\n",
              "       'Service was fine and the waitress was friendly.',\n",
              "       'Awesome service and food.', 'Great pork sandwich.',\n",
              "       'The bathrooms are clean and the place itself is well decorated.',\n",
              "       'Now this dish was quite flavourful.',\n",
              "       'Do yourself a favor and stay away from this dish.',\n",
              "       'This was like the final blow!',\n",
              "       'And the beans and rice were mediocre at best.',\n",
              "       'Boy was that sucker dry!!.', 'The food came out at a good pace.',\n",
              "       'Penne vodka excellent!',\n",
              "       'The seafood was fresh and generous in portion.',\n",
              "       'Went in for happy hour, great list of wines.',\n",
              "       'The chipolte ranch dipping sause was tasteless, seemed thin and watered down with no heat.',\n",
              "       'Crust is not good.',\n",
              "       'I could care less... The interior is just beautiful.',\n",
              "       'Definitely not worth the $3 I paid.',\n",
              "       'The ripped banana was not only ripped, but petrified and tasteless.',\n",
              "       'This greedy corporation will NEVER see another dime from me!',\n",
              "       \"I don't have to be an accountant to know I'm getting screwed!\",\n",
              "       'Service stinks here!',\n",
              "       \"If the food isn't bad enough for you, then enjoy dealing with the world's worst/annoying drunk people.\",\n",
              "       'The shrimp tender and moist.', 'Not good for the money.',\n",
              "       'For that price I can think of a few place I would have much rather gone.',\n",
              "       'If you stay in Vegas you must get breakfast here at least once.',\n",
              "       'If you look for authentic Thai food, go else where.',\n",
              "       'Spend your money and time some place else.',\n",
              "       'So in a nutshell: 1) The restaraunt smells like a combination of a dirty fish market and a sewer.',\n",
              "       'Sooooo good!!', 'As for the \"mains,\" also uninspired.',\n",
              "       \"They have a plethora of salads and sandwiches, and everything I've tried gets my seal of approval.\",\n",
              "       'Seafood was limited to boiled shrimp and crab legs but the crab legs definitely did not taste fresh.',\n",
              "       'Seriously killer hot chai latte.',\n",
              "       '- They never brought a salad we asked for.',\n",
              "       'This is an unbelievable BARGAIN!',\n",
              "       'Every time I eat here, I see caring teamwork to a professional degree.',\n",
              "       'I seriously cannot believe that the owner has so many unexperienced employees that all are running around like chickens with their heads cut off.',\n",
              "       'Omelets are to die for!',\n",
              "       'The chips and sals a here is amazing!!!!!!!!!!!!!!!!!!!',\n",
              "       'What did bother me, was the slow service.',\n",
              "       'The food was outstanding and the prices were very reasonable.',\n",
              "       'very tough and very short on flavor!',\n",
              "       'WILL NEVER EVER GO BACK AND HAVE TOLD MANY PEOPLE WHAT HAD HAPPENED.',\n",
              "       \"The chains, which I'm no fan of, beat this place easily.\",\n",
              "       'Back to good BBQ, lighter fare, reasonable pricing and tell the public they are back to the old ways.',\n",
              "       'The pizza selections are good.',\n",
              "       'By this time our side of the restaurant was almost empty so there was no excuse.',\n",
              "       'Unfortunately, we must have hit the bakery on leftover day because everything we ordered was STALE.',\n",
              "       'The service was outshining & I definitely recommend the Halibut.',\n",
              "       'Best tacos in town by far!!',\n",
              "       'What happened next was pretty....off putting.',\n",
              "       'Great food for the price, which is very high quality and house made.',\n",
              "       'Also were served hot bread and butter, and home made potato chips with bacon bits on top....very original and very good.',\n",
              "       'In summary, this was a largely disappointing dining experience.',\n",
              "       'Everyone is treated equally special.',\n",
              "       'The price is reasonable and the service is great.',\n",
              "       \"Needless to say, I won't be going back anytime soon.\",\n",
              "       'Great brunch spot.',\n",
              "       'Oh this is such a thing of beauty, this restaurant.',\n",
              "       'The Jamaican mojitos are delicious.',\n",
              "       \"It's too bad the food is so damn generic.\",\n",
              "       'Great time - family dinner on a Sunday night.',\n",
              "       'I never come again.', 'The manager was the worst.',\n",
              "       \"We'll never go again.\",\n",
              "       'This place is pretty good, nice little vibe in the restaurant.',\n",
              "       'There is so much good food in Vegas that I feel cheated for wasting an eating opportunity by going to Rice and Company.',\n",
              "       'My husband and I ate lunch here and were very disappointed with the food and service.',\n",
              "       'Overall I was not impressed and would not go back.',\n",
              "       'Fantastic service here.', 'Good prices.',\n",
              "       \"I will come back here every time I'm in Vegas.\",\n",
              "       'Thoroughly disappointed!',\n",
              "       'After waiting an hour and being seated, I was not in the greatest of moods.',\n",
              "       'The service was poor and thats being nice.',\n",
              "       'I have been in more than a few bars in Vegas, and do not ever recall being charged for tap water.',\n",
              "       'dont go here.',\n",
              "       'The sweet potato tots were good but the onion rings were perfection or as close as I have had.',\n",
              "       \"It wasn't busy at all and now we know why.\",\n",
              "       'Service was very prompt.',\n",
              "       'I was proven dead wrong by this sushi bar, not only because the quality is great, but the service is fast and the food, impeccable.',\n",
              "       'We had so much to say about the place before we walked in that he expected it to be amazing, but was quickly disappointed.',\n",
              "       'Food was below average.', 'The waitresses are very friendly.',\n",
              "       'If you love authentic Mexican food and want a whole bunch of interesting, yet delicious meats to choose from, you need to try this place.',\n",
              "       \"I'm not really sure how Joey's was voted best hot dog in the Valley by readers of Phoenix Magazine.\",\n",
              "       \"It's NOT hard to make a decent hamburger.\",\n",
              "       'The chefs were friendly and did a good job.',\n",
              "       'Best service and food ever, Maria our server was so good and friendly she made our day.',\n",
              "       'Not good by any stretch of the imagination.', 'Mediocre food.',\n",
              "       'The Wife hated her meal (coconut shrimp), and our friends really did not enjoy their meals, either.',\n",
              "       'Go To Place for Gyros.',\n",
              "       'My drink was never empty and he made some really great menu suggestions.',\n",
              "       'Our server was super nice and checked on us many times.',\n",
              "       'This really is how Vegas fine dining used to be, right down to the menus handed to the ladies that have no prices listed.',\n",
              "       'Great atmosphere, friendly and fast service.',\n",
              "       'Our server was fantastic and when he found out the wife loves roasted garlic and bone marrow, he added extra to our meal and another marrow to go!',\n",
              "       'It is PERFECT for a sit-down family meal or get together with a few friends.',\n",
              "       'My salad had a bland vinegrette on the baby greens and hearts of Palm.',\n",
              "       \"I won't be back.\",\n",
              "       'This place receives stars for their APPETIZERS!!!',\n",
              "       'However, my recent experience at this particular location was not so good.',\n",
              "       'Fantastic food!',\n",
              "       \"REAL sushi lovers, let's be honest - Yama is not that good.\",\n",
              "       \"Won't ever go here again.\",\n",
              "       'The service here leaves a lot to be desired.',\n",
              "       \"It shouldn't take 30 min for pancakes and eggs.\",\n",
              "       'Also, I feel like the chips are bought, not made in house.',\n",
              "       'Nice, spicy and tender.',\n",
              "       'Would come back again if I had a sushi craving while in Vegas.',\n",
              "       'The burger had absolutely no flavor - the meat itself was totally bland, the burger was overcooked and there was no charcoal flavor.',\n",
              "       'Host staff were, for lack of a better word, BITCHES!',\n",
              "       'Google mediocre and I imagine Smashburger will pop up.',\n",
              "       \"Honeslty it didn't taste THAT fresh.)\",\n",
              "       'Their rotating beers on tap is also a highlight of this place.',\n",
              "       'The burger is good beef, cooked just right.',\n",
              "       'Hell no will I go back', 'Both great!',\n",
              "       'The inside is really quite nice and very clean.',\n",
              "       'Which are small and not worth the price.',\n",
              "       'It was way over fried.', 'this place is good.',\n",
              "       'This place is way too overpriced for mediocre food.',\n",
              "       'The first time I ever came here I had an amazing experience, I still tell people how awesome the duck was.',\n",
              "       'Service is perfect and the family atmosphere is nice to see.',\n",
              "       'Good value, great food, great service.',\n",
              "       \"I go to far too many places and I've never seen any restaurant that serves a 1 egg breakfast, especially for $4.00.\",\n",
              "       \"I've had better, not only from dedicated boba tea spots, but even from Jenni Pho.\",\n",
              "       'I just wanted to leave.',\n",
              "       'When I opened the sandwich, I was impressed, but not in a good way.',\n",
              "       'We made the drive all the way from North Scottsdale... and I was not one bit disappointed!',\n",
              "       'I had strawberry tea, which was good.', \"We won't be returning.\",\n",
              "       'Anyway, I do not think i will go back there.',\n",
              "       'If there were zero stars I would give it zero stars.',\n",
              "       'They had a toro tartare with a cavier that was extraordinary and I liked the thinly sliced wagyu with white truffle.',\n",
              "       'The real disappointment was our waiter.',\n",
              "       \"I've lived here since 1979 and this was the first (and last) time I've stepped foot into this place.\",\n",
              "       'So flavorful and has just the perfect amount of heat.',\n",
              "       'Insults, profound deuchebaggery, and had to go outside for a smoke break while serving just to solidify it.',\n",
              "       'The owners are super friendly and the staff is courteous.',\n",
              "       '-My order was not correct.',\n",
              "       'I had the chicken Pho and it tasted very bland.',\n",
              "       'CONCLUSION: Very filling meals.',\n",
              "       'you can watch them preparing the delicious food!)',\n",
              "       'We waited for thirty minutes to be seated (although there were 8 vacant tables and we were the only folks waiting).',\n",
              "       'The wontons were thin, not thick and chewy, almost melt in your mouth.',\n",
              "       'Everything was gross.', 'The nachos are a MUST HAVE!',\n",
              "       \"I probably won't be back, to be honest.\",\n",
              "       'The pan cakes everyone are raving about taste like a sugary disaster tailored to the palate of a six year old.',\n",
              "       \"It's worth driving up from Tucson!\",\n",
              "       'It was just not a fun experience.',\n",
              "       'The menu had so much good stuff on it i could not decide!',\n",
              "       'We had fantastic service, and were pleased by the atmosphere.',\n",
              "       'They have a good selection of food including a massive meatloaf sandwich, a crispy chicken wrap, a delish tuna melt and some tasty burgers.',\n",
              "       'AN HOUR... seriously?', 'This place should honestly be blown up.',\n",
              "       \"The plantains were the worst I've ever tasted.\",\n",
              "       'the food is not tasty at all, not to say its \"real traditional Hunan style\".',\n",
              "       \"Overall, I don't think that I would take my parents to this place again because they made most of the similar complaints that I silently felt too.\",\n",
              "       'We waited for forty five minutes in vain.',\n",
              "       'This place is horrible and way overpriced.',\n",
              "       'This is the place where I first had pho and it was amazing!!',\n",
              "       'We literally sat there for 20 minutes with no one asking to take our order.',\n",
              "       'Waited and waited and waited.',\n",
              "       'A FLY was in my apple juice.. A FLY!!!!!!!!',\n",
              "       \"too bad cause I know it's family owned, I really wanted to like this place.\",\n",
              "       \"I went to Bachi Burger on a friend's recommendation and was not disappointed.\",\n",
              "       'Poor service, the waiter made me feel like I was stupid every time he came to the table.',\n",
              "       'I ate there twice on my last visit, and especially enjoyed the salmon salad.',\n",
              "       'The place was not clean and the food oh so stale!',\n",
              "       'But I definitely would not eat here again.',\n",
              "       'Great food and service, huge portions and they give a military discount.',\n",
              "       'The service was extremely slow.',\n",
              "       'I love their fries and their beans.',\n",
              "       'I\\'m so happy to be here!!!\"',\n",
              "       'Thus far, have only visited twice and the food was absolutely delicious each time.',\n",
              "       \"When I'm on this side of town, this will definitely be a spot I'll hit up again!\",\n",
              "       'Worst Thai ever.',\n",
              "       'The sweet potato fries were very good and seasoned well.',\n",
              "       'This place is overpriced, not consistent with their boba, and it really is OVERPRICED!',\n",
              "       'As always the evening was wonderful and the food delicious!',\n",
              "       'I miss it and wish they had one in Philadelphia!',\n",
              "       'say bye bye to your tip lady!',\n",
              "       \"We won't be going back anytime soon!\", 'They have great dinners.',\n",
              "       'Just had lunch here and had a great experience.',\n",
              "       'I was VERY disappointed!!', 'The only downside is the service.',\n",
              "       'I will continue to come here on ladies night andddd date night ... highly recommend this place to anyone who is in the area (;',\n",
              "       'After one bite, I was hooked.',\n",
              "       'We are so glad we found this place.',\n",
              "       'My breakfast was perpared great, with a beautiful presentation of 3 giant slices of Toast, lightly dusted with powdered sugar.',\n",
              "       'The restaurant is very clean and has a family restaurant feel to it.',\n",
              "       'Then our food came out, disappointment ensued.',\n",
              "       'But then they came back cold.', 'will definitely be back!'],\n",
              "      dtype=object)"
            ]
          },
          "metadata": {},
          "execution_count": 146
        }
      ]
    },
    {
      "cell_type": "markdown",
      "source": [
        "**Using LogisticRegression Model**"
      ],
      "metadata": {
        "id": "oSpDZv_iWHr6"
      }
    },
    {
      "cell_type": "code",
      "source": [
        "from sklearn.feature_extraction.text import TfidfVectorizer\n",
        "vectorizer = TfidfVectorizer()\n",
        "vectorizer.fit(x_train)\n",
        "\n",
        "Sent_train = vectorizer.transform(x_train)\n",
        "Sent_test = vectorizer.transform(x_test)"
      ],
      "metadata": {
        "id": "M63vBBepW4a7"
      },
      "execution_count": null,
      "outputs": []
    },
    {
      "cell_type": "code",
      "source": [
        "print(Sent_train.shape)\n",
        "print(Sent_test.shape)"
      ],
      "metadata": {
        "colab": {
          "base_uri": "https://localhost:8080/"
        },
        "id": "7NK9QCRazP6c",
        "outputId": "15dcc545-3c9f-4940-e0a4-db8388e0bafc"
      },
      "execution_count": null,
      "outputs": [
        {
          "output_type": "stream",
          "name": "stdout",
          "text": [
            "(599, 1510)\n",
            "(400, 1510)\n"
          ]
        }
      ]
    },
    {
      "cell_type": "code",
      "source": [
        "Sent_train"
      ],
      "metadata": {
        "colab": {
          "base_uri": "https://localhost:8080/"
        },
        "id": "Q2YrKc5XzSU3",
        "outputId": "015c978d-32a6-4a80-d911-a1cc91fe72ac"
      },
      "execution_count": null,
      "outputs": [
        {
          "output_type": "execute_result",
          "data": {
            "text/plain": [
              "<599x1510 sparse matrix of type '<class 'numpy.float64'>'\n",
              "\twith 5798 stored elements in Compressed Sparse Row format>"
            ]
          },
          "metadata": {},
          "execution_count": 149
        }
      ]
    },
    {
      "cell_type": "code",
      "source": [
        "Sent_test"
      ],
      "metadata": {
        "colab": {
          "base_uri": "https://localhost:8080/"
        },
        "outputId": "e76fa31f-6328-4033-8f8c-5fa88363b225",
        "id": "TY4Cbu2r_lUh"
      },
      "execution_count": null,
      "outputs": [
        {
          "output_type": "execute_result",
          "data": {
            "text/plain": [
              "<400x1510 sparse matrix of type '<class 'numpy.float64'>'\n",
              "\twith 3369 stored elements in Compressed Sparse Row format>"
            ]
          },
          "metadata": {},
          "execution_count": 150
        }
      ]
    },
    {
      "cell_type": "code",
      "source": [
        "from sklearn.linear_model import LogisticRegression\n",
        "lr = LogisticRegression()\n",
        "lr.fit(Sent_train,y_train)"
      ],
      "metadata": {
        "colab": {
          "base_uri": "https://localhost:8080/",
          "height": 75
        },
        "id": "zFOP2kk8TESp",
        "outputId": "5cfa9326-6b22-466b-8e9c-8945b1911574"
      },
      "execution_count": null,
      "outputs": [
        {
          "output_type": "execute_result",
          "data": {
            "text/plain": [
              "LogisticRegression()"
            ],
            "text/html": [
              "<style>#sk-container-id-5 {color: black;background-color: white;}#sk-container-id-5 pre{padding: 0;}#sk-container-id-5 div.sk-toggleable {background-color: white;}#sk-container-id-5 label.sk-toggleable__label {cursor: pointer;display: block;width: 100%;margin-bottom: 0;padding: 0.3em;box-sizing: border-box;text-align: center;}#sk-container-id-5 label.sk-toggleable__label-arrow:before {content: \"▸\";float: left;margin-right: 0.25em;color: #696969;}#sk-container-id-5 label.sk-toggleable__label-arrow:hover:before {color: black;}#sk-container-id-5 div.sk-estimator:hover label.sk-toggleable__label-arrow:before {color: black;}#sk-container-id-5 div.sk-toggleable__content {max-height: 0;max-width: 0;overflow: hidden;text-align: left;background-color: #f0f8ff;}#sk-container-id-5 div.sk-toggleable__content pre {margin: 0.2em;color: black;border-radius: 0.25em;background-color: #f0f8ff;}#sk-container-id-5 input.sk-toggleable__control:checked~div.sk-toggleable__content {max-height: 200px;max-width: 100%;overflow: auto;}#sk-container-id-5 input.sk-toggleable__control:checked~label.sk-toggleable__label-arrow:before {content: \"▾\";}#sk-container-id-5 div.sk-estimator input.sk-toggleable__control:checked~label.sk-toggleable__label {background-color: #d4ebff;}#sk-container-id-5 div.sk-label input.sk-toggleable__control:checked~label.sk-toggleable__label {background-color: #d4ebff;}#sk-container-id-5 input.sk-hidden--visually {border: 0;clip: rect(1px 1px 1px 1px);clip: rect(1px, 1px, 1px, 1px);height: 1px;margin: -1px;overflow: hidden;padding: 0;position: absolute;width: 1px;}#sk-container-id-5 div.sk-estimator {font-family: monospace;background-color: #f0f8ff;border: 1px dotted black;border-radius: 0.25em;box-sizing: border-box;margin-bottom: 0.5em;}#sk-container-id-5 div.sk-estimator:hover {background-color: #d4ebff;}#sk-container-id-5 div.sk-parallel-item::after {content: \"\";width: 100%;border-bottom: 1px solid gray;flex-grow: 1;}#sk-container-id-5 div.sk-label:hover label.sk-toggleable__label {background-color: #d4ebff;}#sk-container-id-5 div.sk-serial::before {content: \"\";position: absolute;border-left: 1px solid gray;box-sizing: border-box;top: 0;bottom: 0;left: 50%;z-index: 0;}#sk-container-id-5 div.sk-serial {display: flex;flex-direction: column;align-items: center;background-color: white;padding-right: 0.2em;padding-left: 0.2em;position: relative;}#sk-container-id-5 div.sk-item {position: relative;z-index: 1;}#sk-container-id-5 div.sk-parallel {display: flex;align-items: stretch;justify-content: center;background-color: white;position: relative;}#sk-container-id-5 div.sk-item::before, #sk-container-id-5 div.sk-parallel-item::before {content: \"\";position: absolute;border-left: 1px solid gray;box-sizing: border-box;top: 0;bottom: 0;left: 50%;z-index: -1;}#sk-container-id-5 div.sk-parallel-item {display: flex;flex-direction: column;z-index: 1;position: relative;background-color: white;}#sk-container-id-5 div.sk-parallel-item:first-child::after {align-self: flex-end;width: 50%;}#sk-container-id-5 div.sk-parallel-item:last-child::after {align-self: flex-start;width: 50%;}#sk-container-id-5 div.sk-parallel-item:only-child::after {width: 0;}#sk-container-id-5 div.sk-dashed-wrapped {border: 1px dashed gray;margin: 0 0.4em 0.5em 0.4em;box-sizing: border-box;padding-bottom: 0.4em;background-color: white;}#sk-container-id-5 div.sk-label label {font-family: monospace;font-weight: bold;display: inline-block;line-height: 1.2em;}#sk-container-id-5 div.sk-label-container {text-align: center;}#sk-container-id-5 div.sk-container {/* jupyter's `normalize.less` sets `[hidden] { display: none; }` but bootstrap.min.css set `[hidden] { display: none !important; }` so we also need the `!important` here to be able to override the default hidden behavior on the sphinx rendered scikit-learn.org. See: https://github.com/scikit-learn/scikit-learn/issues/21755 */display: inline-block !important;position: relative;}#sk-container-id-5 div.sk-text-repr-fallback {display: none;}</style><div id=\"sk-container-id-5\" class=\"sk-top-container\"><div class=\"sk-text-repr-fallback\"><pre>LogisticRegression()</pre><b>In a Jupyter environment, please rerun this cell to show the HTML representation or trust the notebook. <br />On GitHub, the HTML representation is unable to render, please try loading this page with nbviewer.org.</b></div><div class=\"sk-container\" hidden><div class=\"sk-item\"><div class=\"sk-estimator sk-toggleable\"><input class=\"sk-toggleable__control sk-hidden--visually\" id=\"sk-estimator-id-5\" type=\"checkbox\" checked><label for=\"sk-estimator-id-5\" class=\"sk-toggleable__label sk-toggleable__label-arrow\">LogisticRegression</label><div class=\"sk-toggleable__content\"><pre>LogisticRegression()</pre></div></div></div></div></div>"
            ]
          },
          "metadata": {},
          "execution_count": 151
        }
      ]
    },
    {
      "cell_type": "code",
      "source": [
        "yelp_pred= lr.predict(Sent_test)"
      ],
      "metadata": {
        "id": "UesCTY21Xbzq"
      },
      "execution_count": null,
      "outputs": []
    },
    {
      "cell_type": "code",
      "source": [
        "lr_accuracy = lr.score(Sent_test, y_test)\n",
        "print('LR_Accuracy: ',lr_accuracy)"
      ],
      "metadata": {
        "colab": {
          "base_uri": "https://localhost:8080/"
        },
        "id": "HCGItf4mXdD8",
        "outputId": "429781b0-e6d2-4ab9-a3c9-14dd88b4358a"
      },
      "execution_count": null,
      "outputs": [
        {
          "output_type": "stream",
          "name": "stdout",
          "text": [
            "LR_Accuracy:  0.7625\n"
          ]
        }
      ]
    },
    {
      "cell_type": "code",
      "source": [
        "from sklearn.metrics import confusion_matrix\n",
        "confusion_matrix(y_test, yelp_pred)"
      ],
      "metadata": {
        "colab": {
          "base_uri": "https://localhost:8080/"
        },
        "id": "Br9VzDND1dQA",
        "outputId": "962aa78f-7291-47d7-c3fb-284dc24b4719"
      },
      "execution_count": null,
      "outputs": [
        {
          "output_type": "execute_result",
          "data": {
            "text/plain": [
              "array([[156,  52],\n",
              "       [ 43, 149]])"
            ]
          },
          "metadata": {},
          "execution_count": 154
        }
      ]
    },
    {
      "cell_type": "code",
      "source": [
        "from sklearn.metrics import classification_report\n",
        "print(classification_report(y_test, yelp_pred))"
      ],
      "metadata": {
        "colab": {
          "base_uri": "https://localhost:8080/"
        },
        "id": "xjt_Ez4UYDUY",
        "outputId": "6061b9f5-8278-4d3c-c200-aa4236ab4684"
      },
      "execution_count": null,
      "outputs": [
        {
          "output_type": "stream",
          "name": "stdout",
          "text": [
            "              precision    recall  f1-score   support\n",
            "\n",
            "           0       0.78      0.75      0.77       208\n",
            "           1       0.74      0.78      0.76       192\n",
            "\n",
            "    accuracy                           0.76       400\n",
            "   macro avg       0.76      0.76      0.76       400\n",
            "weighted avg       0.76      0.76      0.76       400\n",
            "\n"
          ]
        }
      ]
    },
    {
      "cell_type": "markdown",
      "source": [
        "**Using MultipleLinear Regression Model**"
      ],
      "metadata": {
        "id": "oy3T6U8j2j9H"
      }
    },
    {
      "cell_type": "code",
      "source": [
        "from sklearn.linear_model import LinearRegression\n",
        "ml = LinearRegression()\n",
        "ml.fit(Sent_train,y_train)"
      ],
      "metadata": {
        "colab": {
          "base_uri": "https://localhost:8080/",
          "height": 75
        },
        "id": "dSeWEfnO2n4j",
        "outputId": "4da383b4-0c57-4b0c-e4dd-36e9d4357b7a"
      },
      "execution_count": null,
      "outputs": [
        {
          "output_type": "execute_result",
          "data": {
            "text/plain": [
              "LinearRegression()"
            ],
            "text/html": [
              "<style>#sk-container-id-6 {color: black;background-color: white;}#sk-container-id-6 pre{padding: 0;}#sk-container-id-6 div.sk-toggleable {background-color: white;}#sk-container-id-6 label.sk-toggleable__label {cursor: pointer;display: block;width: 100%;margin-bottom: 0;padding: 0.3em;box-sizing: border-box;text-align: center;}#sk-container-id-6 label.sk-toggleable__label-arrow:before {content: \"▸\";float: left;margin-right: 0.25em;color: #696969;}#sk-container-id-6 label.sk-toggleable__label-arrow:hover:before {color: black;}#sk-container-id-6 div.sk-estimator:hover label.sk-toggleable__label-arrow:before {color: black;}#sk-container-id-6 div.sk-toggleable__content {max-height: 0;max-width: 0;overflow: hidden;text-align: left;background-color: #f0f8ff;}#sk-container-id-6 div.sk-toggleable__content pre {margin: 0.2em;color: black;border-radius: 0.25em;background-color: #f0f8ff;}#sk-container-id-6 input.sk-toggleable__control:checked~div.sk-toggleable__content {max-height: 200px;max-width: 100%;overflow: auto;}#sk-container-id-6 input.sk-toggleable__control:checked~label.sk-toggleable__label-arrow:before {content: \"▾\";}#sk-container-id-6 div.sk-estimator input.sk-toggleable__control:checked~label.sk-toggleable__label {background-color: #d4ebff;}#sk-container-id-6 div.sk-label input.sk-toggleable__control:checked~label.sk-toggleable__label {background-color: #d4ebff;}#sk-container-id-6 input.sk-hidden--visually {border: 0;clip: rect(1px 1px 1px 1px);clip: rect(1px, 1px, 1px, 1px);height: 1px;margin: -1px;overflow: hidden;padding: 0;position: absolute;width: 1px;}#sk-container-id-6 div.sk-estimator {font-family: monospace;background-color: #f0f8ff;border: 1px dotted black;border-radius: 0.25em;box-sizing: border-box;margin-bottom: 0.5em;}#sk-container-id-6 div.sk-estimator:hover {background-color: #d4ebff;}#sk-container-id-6 div.sk-parallel-item::after {content: \"\";width: 100%;border-bottom: 1px solid gray;flex-grow: 1;}#sk-container-id-6 div.sk-label:hover label.sk-toggleable__label {background-color: #d4ebff;}#sk-container-id-6 div.sk-serial::before {content: \"\";position: absolute;border-left: 1px solid gray;box-sizing: border-box;top: 0;bottom: 0;left: 50%;z-index: 0;}#sk-container-id-6 div.sk-serial {display: flex;flex-direction: column;align-items: center;background-color: white;padding-right: 0.2em;padding-left: 0.2em;position: relative;}#sk-container-id-6 div.sk-item {position: relative;z-index: 1;}#sk-container-id-6 div.sk-parallel {display: flex;align-items: stretch;justify-content: center;background-color: white;position: relative;}#sk-container-id-6 div.sk-item::before, #sk-container-id-6 div.sk-parallel-item::before {content: \"\";position: absolute;border-left: 1px solid gray;box-sizing: border-box;top: 0;bottom: 0;left: 50%;z-index: -1;}#sk-container-id-6 div.sk-parallel-item {display: flex;flex-direction: column;z-index: 1;position: relative;background-color: white;}#sk-container-id-6 div.sk-parallel-item:first-child::after {align-self: flex-end;width: 50%;}#sk-container-id-6 div.sk-parallel-item:last-child::after {align-self: flex-start;width: 50%;}#sk-container-id-6 div.sk-parallel-item:only-child::after {width: 0;}#sk-container-id-6 div.sk-dashed-wrapped {border: 1px dashed gray;margin: 0 0.4em 0.5em 0.4em;box-sizing: border-box;padding-bottom: 0.4em;background-color: white;}#sk-container-id-6 div.sk-label label {font-family: monospace;font-weight: bold;display: inline-block;line-height: 1.2em;}#sk-container-id-6 div.sk-label-container {text-align: center;}#sk-container-id-6 div.sk-container {/* jupyter's `normalize.less` sets `[hidden] { display: none; }` but bootstrap.min.css set `[hidden] { display: none !important; }` so we also need the `!important` here to be able to override the default hidden behavior on the sphinx rendered scikit-learn.org. See: https://github.com/scikit-learn/scikit-learn/issues/21755 */display: inline-block !important;position: relative;}#sk-container-id-6 div.sk-text-repr-fallback {display: none;}</style><div id=\"sk-container-id-6\" class=\"sk-top-container\"><div class=\"sk-text-repr-fallback\"><pre>LinearRegression()</pre><b>In a Jupyter environment, please rerun this cell to show the HTML representation or trust the notebook. <br />On GitHub, the HTML representation is unable to render, please try loading this page with nbviewer.org.</b></div><div class=\"sk-container\" hidden><div class=\"sk-item\"><div class=\"sk-estimator sk-toggleable\"><input class=\"sk-toggleable__control sk-hidden--visually\" id=\"sk-estimator-id-6\" type=\"checkbox\" checked><label for=\"sk-estimator-id-6\" class=\"sk-toggleable__label sk-toggleable__label-arrow\">LinearRegression</label><div class=\"sk-toggleable__content\"><pre>LinearRegression()</pre></div></div></div></div></div>"
            ]
          },
          "metadata": {},
          "execution_count": 156
        }
      ]
    },
    {
      "cell_type": "code",
      "source": [
        "yelp_ml_pred= ml.predict(Sent_test)"
      ],
      "metadata": {
        "id": "fOn15mrn2ivr"
      },
      "execution_count": null,
      "outputs": []
    },
    {
      "cell_type": "code",
      "source": [
        "from sklearn.metrics import r2_score\n",
        "r2_score(y_test,yelp_ml_pred)"
      ],
      "metadata": {
        "colab": {
          "base_uri": "https://localhost:8080/"
        },
        "id": "MXSodmnY3PpW",
        "outputId": "7861824b-16f3-4449-eda5-b803ecace0cd"
      },
      "execution_count": null,
      "outputs": [
        {
          "output_type": "execute_result",
          "data": {
            "text/plain": [
              "0.19313929445288147"
            ]
          },
          "metadata": {},
          "execution_count": 158
        }
      ]
    },
    {
      "cell_type": "markdown",
      "source": [
        "**Plotting the result**"
      ],
      "metadata": {
        "id": "elvB03ZtF2yC"
      }
    },
    {
      "cell_type": "code",
      "source": [
        "import matplotlib.pyplot as plt\n",
        "plt.figure(figsize=(13,8))\n",
        "plt.scatter(y_test,yelp_ml_pred)\n",
        "plt.xlabel('Actual')\n",
        "plt.ylabel('Predicted')\n",
        "plt.title('Multiple Linear Regression')"
      ],
      "metadata": {
        "colab": {
          "base_uri": "https://localhost:8080/",
          "height": 736
        },
        "id": "Xahf-LLmF6_U",
        "outputId": "196ce3f1-2303-427f-9cf5-c8659cc4cf0b"
      },
      "execution_count": null,
      "outputs": [
        {
          "output_type": "execute_result",
          "data": {
            "text/plain": [
              "Text(0.5, 1.0, 'Multiple Linear Regression')"
            ]
          },
          "metadata": {},
          "execution_count": 159
        },
        {
          "output_type": "display_data",
          "data": {
            "text/plain": [
              "<Figure size 1300x800 with 1 Axes>"
            ],
            "image/png": "[encoded data removed]"
          },
          "metadata": {}
        }
      ]
    },
    {
      "cell_type": "markdown",
      "source": [
        "**Conclusion:** Out of two model(Logistic and Linear regression) the accuracy of Logistic Regression Model is accurate."
      ],
      "metadata": {
        "id": "Hdy72JJtsOAK"
      }
    }
  ]
}